{
 "cells": [
  {
   "cell_type": "code",
   "execution_count": 3,
   "metadata": {},
   "outputs": [],
   "source": [
    "import selenium\n",
    "import time\n",
    "import pandas as pd\n",
    "from bs4 import BeautifulSoup\n",
    "import requests\n",
    "from itertools import repeat\n",
    "from selenium import webdriver"
   ]
  },
  {
   "cell_type": "code",
   "execution_count": 4,
   "metadata": {},
   "outputs": [],
   "source": [
    "# gecko드라이버 열기\n",
    "driver = webdriver.Firefox() \n",
    "# geckodriver 경로 추가\n",
    "driver.maximize_window() \n",
    "# 창 크기 최대"
   ]
  },
  {
   "cell_type": "code",
   "execution_count": 14,
   "metadata": {},
   "outputs": [
    {
     "name": "stdout",
     "output_type": "stream",
     "text": [
      "crawling the page.. 1\n",
      "crawling the page.. 2\n",
      "crawling the page.. 3\n",
      "crawling the page.. 4\n",
      "crawling the page.. 5\n",
      "crawling the page.. 6\n",
      "crawling the page.. 7\n"
     ]
    },
    {
     "ename": "KeyboardInterrupt",
     "evalue": "",
     "output_type": "error",
     "traceback": [
      "\u001b[1;31m---------------------------------------------------------------------------\u001b[0m",
      "\u001b[1;31mKeyboardInterrupt\u001b[0m                         Traceback (most recent call last)",
      "\u001b[1;32m<ipython-input-14-7ecaf56e34da>\u001b[0m in \u001b[0;36m<module>\u001b[1;34m\u001b[0m\n\u001b[0;32m     14\u001b[0m     \u001b[1;31m# 연대선택 2020년 클릭\u001b[0m\u001b[1;33m\u001b[0m\u001b[1;33m\u001b[0m\u001b[1;33m\u001b[0m\u001b[0m\n\u001b[0;32m     15\u001b[0m     \u001b[0mdriver\u001b[0m\u001b[1;33m.\u001b[0m\u001b[0mfind_element_by_xpath\u001b[0m\u001b[1;33m(\u001b[0m\u001b[1;34m'/html/body/div/div[3]/div/div/form/div[1]/div/div/div[1]/div[1]/ul/li[1]/span/label'\u001b[0m\u001b[1;33m)\u001b[0m\u001b[1;33m.\u001b[0m\u001b[0mclick\u001b[0m\u001b[1;33m(\u001b[0m\u001b[1;33m)\u001b[0m\u001b[1;33m\u001b[0m\u001b[1;33m\u001b[0m\u001b[0m\n\u001b[1;32m---> 16\u001b[1;33m     \u001b[0mtime\u001b[0m\u001b[1;33m.\u001b[0m\u001b[0msleep\u001b[0m\u001b[1;33m(\u001b[0m\u001b[1;36m1\u001b[0m\u001b[1;33m)\u001b[0m\u001b[1;33m\u001b[0m\u001b[1;33m\u001b[0m\u001b[0m\n\u001b[0m\u001b[0;32m     17\u001b[0m \u001b[1;33m\u001b[0m\u001b[0m\n\u001b[0;32m     18\u001b[0m     \u001b[1;31m# 연도선택 2020년 클릭\u001b[0m\u001b[1;33m\u001b[0m\u001b[1;33m\u001b[0m\u001b[1;33m\u001b[0m\u001b[0m\n",
      "\u001b[1;31mKeyboardInterrupt\u001b[0m: "
     ]
    }
   ],
   "source": [
    "for i in range(50):  #i = 0, ...,  49 -->i+1\n",
    "    driver = webdriver.Firefox() \n",
    "\n",
    "    url = 'https://www.melon.com/chart/index.htm' # 멜론차트 페이지\n",
    "    driver.get(url)\n",
    "    # 차트파인더 클릭\n",
    "    driver.find_element_by_xpath('//*[@id=\"gnb_menu\"]/ul[1]/li[1]/div/div/button/span').click()\n",
    "\n",
    "\n",
    "    # 연도차트 클릭\n",
    "    driver.find_element_by_xpath('/html/body/div/div[3]/div/div/form/div[1]/div/h4[3]/a').click()\n",
    "    time.sleep(1)\n",
    "\n",
    "    # 연대선택 2020년 클릭\n",
    "    driver.find_element_by_xpath('/html/body/div/div[3]/div/div/form/div[1]/div/div/div[1]/div[1]/ul/li[1]/span/label').click()\n",
    "    time.sleep(1)\n",
    "\n",
    "    # 연도선택 2020년 클릭\n",
    "    driver.find_element_by_xpath('/html/body/div/div[3]/div/div/form/div[1]/div/div/div[2]/div[1]/ul/li/span/label').click()\n",
    "    time.sleep(1)\n",
    "\n",
    "    # 장르선택 종합 클릭\n",
    "    driver.find_element_by_xpath('/html/body/div/div[3]/div/div/form/div[1]/div/div/div[5]/div[1]/ul/li[2]/span/label').click()\n",
    "    time.sleep(1)\n",
    "\n",
    "    # 검색버튼 클릭\n",
    "    driver.find_element_by_xpath('/html/body/div/div[3]/div/div/form/div[2]/button/span/span').click()\n",
    "    time.sleep(1)\n",
    "    #곡정보 클릭\n",
    "    driver.find_element_by_xpath('/html/body/div/div[3]/div/div/div/div[1]/div[2]/form/div[1]/table/tbody/tr['+str(i+1)+']/td[4]/div/a').click()\n",
    "    time.sleep(1)\n",
    "#     /html/body/div/div[3]/div/div/div/div[1]/div[2]/form/div[1]/table/tbody/tr[1]/td[4]/div/a\n",
    "#                                  /html/body/div/div[3]/div/div/div/div[1]/div[2]/form/div[1]/table/tbody/tr[2]/td[4]/div/a/span\n",
    "    #펼치기\n",
    "    driver.find_element_by_xpath('/html/body/div[1]/div[3]/div/div/div/div[2]/div[2]/button/span').click()\n",
    "    time.sleep(1)\n",
    "    html = driver.page_source # 드라이버 현재 페이지의 html 정보 가져오기 \n",
    "                                # cf) requests.get(url)\n",
    "    soup = BeautifulSoup(html, 'lxml')\n",
    "    print('crawling the page..', (i+1))\n",
    "    driver.close()"
   ]
  },
  {
   "cell_type": "code",
   "execution_count": null,
   "metadata": {},
   "outputs": [],
   "source": [
    "source_code = []\n",
    "for i in range(50,100,1):  #i = 0, ...,  49 -->i+1\n",
    "    driver = webdriver.Firefox() \n",
    "\n",
    "    url = 'https://www.melon.com/chart/index.htm' # 멜론차트 페이지\n",
    "    driver.get(url)\n",
    "    # 차트파인더 클릭\n",
    "    driver.find_element_by_xpath('//*[@id=\"gnb_menu\"]/ul[1]/li[1]/div/div/button/span').click()\n",
    "\n",
    "\n",
    "    # 연도차트 클릭\n",
    "    driver.find_element_by_xpath('/html/body/div/div[3]/div/div/form/div[1]/div/h4[3]/a').click()\n",
    "    time.sleep(1)\n",
    "\n",
    "    # 연대선택 2020년 클릭\n",
    "    driver.find_element_by_xpath('/html/body/div/div[3]/div/div/form/div[1]/div/div/div[1]/div[1]/ul/li[1]/span/label').click()\n",
    "    time.sleep(1)\n",
    "\n",
    "    # 연도선택 2020년 클릭\n",
    "    driver.find_element_by_xpath('/html/body/div/div[3]/div/div/form/div[1]/div/div/div[2]/div[1]/ul/li/span/label').click()\n",
    "    time.sleep(1)\n",
    "\n",
    "    # 장르선택 종합 클릭\n",
    "    driver.find_element_by_xpath('/html/body/div/div[3]/div/div/form/div[1]/div/div/div[5]/div[1]/ul/li[2]/span/label').click()\n",
    "    time.sleep(1)\n",
    "\n",
    "    # 검색버튼 클릭\n",
    "    driver.find_element_by_xpath('/html/body/div/div[3]/div/div/form/div[2]/button/span/span').click()\n",
    "    time.sleep(1)\n",
    "    #51-100 까지 버튼 클릭\n",
    "    driver.find_element_by_xpath('/html/body/div/div[3]/div/div/div/div[1]/div[2]/form/div[2]/span/a').click()\n",
    "    time.sleep(1)    \n",
    "    \n",
    "    #곡정보 클릭\n",
    "    driver.find_element_by_xpath('/html/body/div/div[3]/div/div/div/div[1]/div[2]/form/div[1]/table/tbody/tr['+str(i+1)+']/td[4]/div/a').click()\n",
    "    time.sleep(1)\n",
    "#     /html/body/div/div[3]/div/div/div/div[1]/div[2]/form/div[1]/table/tbody/tr[51]/td[4]/div/a/span\n",
    "#     /html/body/div/div[3]/div/div/div/div[1]/div[2]/form/div[1]/table/tbody/tr[1]/td[4]/div/a\n",
    "#                                  /html/body/div/div[3]/div/div/div/div[1]/div[2]/form/div[1]/table/tbody/tr[2]/td[4]/div/a/span\n",
    "    #펼치기\n",
    "    driver.find_element_by_xpath('/html/body/div[1]/div[3]/div/div/div/div[2]/div[2]/button/span').click()\n",
    "    time.sleep(1)\n",
    "    html = driver.page_source # 드라이버 현재 페이지의 html 정보 가져오기 \n",
    "                                # cf) requests.get(url)\n",
    "    soup = BeautifulSoup(html, 'lxml')\n",
    "    html = driver.page_source # 드라이버 현재 페이지의 html 정보 가져오기 \n",
    "                            # cf) requests.get(url)\n",
    "    soup = BeautifulSoup(html, 'lxml')\n",
    "    #곡정보 저장하기\n",
    "    lyric = soup.find_all('div', attrs={'class':'wrap_lyric'})\n",
    "    song_list = [title.find('a') for title in soup.find_all('div', attrs={'class': 'ellipsis rank01'})]\n",
    "    singer_list = [ singer for singer in soup.find_all('span', attrs={'class':'checkEllipsis'}) ]\n",
    "    \n",
    "    source_code.append((song_list, singer_list,lyric ))\n",
    "    #soup을 저장하기.\n",
    "    print('crawling the page..', (i+1))\n",
    "    print(song_list)\n",
    "    print(singer_list)\n",
    "    print(lyric)\n",
    "\n",
    "    driver.close()\n",
    "\n",
    "    \n",
    "df_result = pd.DataFrame(source_code)\n",
    "d=9\n",
    "filename = 'music_data_00'+str(d)+'.csv' #파일이름 지정\n",
    "\n",
    "df_result.to_csv(filename, encoding='ANSI')\n",
    "print('file exported to : ',filename)\n"
   ]
  },
  {
   "cell_type": "code",
   "execution_count": 11,
   "metadata": {},
   "outputs": [],
   "source": [
    "이름, 작사/작곡/편곡, lyric, attribute1, attribute2, \n",
    "\n",
    "\n",
    "비와이, 작사\n",
    "염따, 작곡\n"
   ]
  },
  {
   "cell_type": "code",
   "execution_count": 1,
   "metadata": {},
   "outputs": [
    {
     "ename": "NameError",
     "evalue": "name 'driver' is not defined",
     "output_type": "error",
     "traceback": [
      "\u001b[1;31m---------------------------------------------------------------------------\u001b[0m",
      "\u001b[1;31mNameError\u001b[0m                                 Traceback (most recent call last)",
      "\u001b[1;32m<ipython-input-1-8f880fd11b08>\u001b[0m in \u001b[0;36m<module>\u001b[1;34m\u001b[0m\n\u001b[0;32m      2\u001b[0m \u001b[1;31m# 드라이버가 해당 url 접속\u001b[0m\u001b[1;33m\u001b[0m\u001b[1;33m\u001b[0m\u001b[1;33m\u001b[0m\u001b[0m\n\u001b[0;32m      3\u001b[0m     \u001b[0murl\u001b[0m \u001b[1;33m=\u001b[0m \u001b[1;34m'https://www.melon.com/chart/index.htm'\u001b[0m \u001b[1;31m# 멜론차트 페이지\u001b[0m\u001b[1;33m\u001b[0m\u001b[1;33m\u001b[0m\u001b[0m\n\u001b[1;32m----> 4\u001b[1;33m     \u001b[0mdriver\u001b[0m\u001b[1;33m.\u001b[0m\u001b[0mget\u001b[0m\u001b[1;33m(\u001b[0m\u001b[0murl\u001b[0m\u001b[1;33m)\u001b[0m\u001b[1;33m\u001b[0m\u001b[1;33m\u001b[0m\u001b[0m\n\u001b[0m\u001b[0;32m      5\u001b[0m     \u001b[1;31m# 차트파인더 클릭\u001b[0m\u001b[1;33m\u001b[0m\u001b[1;33m\u001b[0m\u001b[1;33m\u001b[0m\u001b[0m\n\u001b[0;32m      6\u001b[0m     \u001b[0mdriver\u001b[0m\u001b[1;33m.\u001b[0m\u001b[0mfind_element_by_xpath\u001b[0m\u001b[1;33m(\u001b[0m\u001b[1;34m'//*[@id=\"gnb_menu\"]/ul[1]/li[1]/div/div/button/span'\u001b[0m\u001b[1;33m)\u001b[0m\u001b[1;33m.\u001b[0m\u001b[0mclick\u001b[0m\u001b[1;33m(\u001b[0m\u001b[1;33m)\u001b[0m\u001b[1;33m\u001b[0m\u001b[1;33m\u001b[0m\u001b[0m\n",
      "\u001b[1;31mNameError\u001b[0m: name 'driver' is not defined"
     ]
    }
   ],
   "source": [
    "for i in range(50):\n",
    "# 드라이버가 해당 url 접속\n",
    "    url = 'https://www.melon.com/chart/index.htm' # 멜론차트 페이지\n",
    "    driver.get(url)\n",
    "    # 차트파인더 클릭\n",
    "    driver.find_element_by_xpath('//*[@id=\"gnb_menu\"]/ul[1]/li[1]/div/div/button/span').click()\n",
    "\n",
    "\n",
    "    # 연도차트 클릭\n",
    "    driver.find_element_by_xpath('/html/body/div/div[3]/div/div/form/div[1]/div/h4[3]/a').click()\n",
    "    time.sleep(2)\n",
    "\n",
    "    # 연대선택 2020년 클릭\n",
    "    driver.find_element_by_xpath('/html/body/div/div[3]/div/div/form/div[1]/div/div/div[1]/div[1]/ul/li[1]/span/label').click()\n",
    "    time.sleep(2)\n",
    "\n",
    "    # 연도선택 2020년 클릭\n",
    "    driver.find_element_by_xpath('/html/body/div/div[3]/div/div/form/div[1]/div/div/div[2]/div[1]/ul/li/span/label').click()\n",
    "    time.sleep(2)\n",
    "\n",
    "    # 장르선택 종합 클릭\n",
    "    driver.find_element_by_xpath('/html/body/div/div[3]/div/div/form/div[1]/div/div/div[5]/div[1]/ul/li[2]/span/label').click()\n",
    "    time.sleep(2)\n",
    "\n",
    "    # 검색버튼 클릭\n",
    "    driver.find_element_by_xpath('/html/body/div/div[3]/div/div/form/div[2]/button/span/span').click()\n",
    "    time.sleep(2)\n",
    "    #곡정보 클릭\n",
    "    driver.find_element_by_xpath('/html/body/div/div[3]/div/div/div/div[1]/div[2]/form/div[1]/table/tbody/tr[1]/td['+(i+1)+']/div/a/span').click()\n",
    "    time.sleep(2)\n",
    "    #펼치기\n",
    "    driver.find_element_by_xpath('/html/body/div[1]/div[3]/div/div/div/div[2]/div[2]/button/span').click()\n",
    "    time.sleep(2)\n",
    "\n",
    "\n"
   ]
  },
  {
   "cell_type": "code",
   "execution_count": null,
   "metadata": {},
   "outputs": [],
   "source": []
  },
  {
   "cell_type": "code",
   "execution_count": 13,
   "metadata": {},
   "outputs": [],
   "source": [
    "html = driver.page_source # 드라이버 현재 페이지의 html 정보 가져오기 \n",
    "                            # cf) requests.get(url)\n",
    "soup = BeautifulSoup(html, 'lxml')"
   ]
  },
  {
   "cell_type": "code",
   "execution_count": 14,
   "metadata": {},
   "outputs": [
    {
     "data": {
      "text/plain": [
       "[<div class=\"wrap_lyric\" id=\"lyricArea\">\n",
       " <div class=\"lyric on\" id=\"d_video_summary\" tabindex=\"0\"><!-- height:auto; 로 변경시, 확장됨 -->\n",
       " \t\t\t\t\t\t\t왜들 그리 다운돼있어<br/>뭐가 문제야 say something<br/>분위기가 겁나 싸해<br/>요새는 이런 게 유행인가<br/>왜들 그리 재미없어<br/>아 그건 나도 마찬가지<br/>Tell me what I got to do<br/>급한 대로 블루투스 켜<br/>아무 노래나 일단 틀어<br/>아무거나 신나는 걸로<br/>아무렇게나 춤춰<br/>아무렇지 않아 보이게<br/>아무 생각 하기 싫어<br/>아무개로 살래 잠시<br/>I’m sick and tired of my everyday<br/>Keep it up 한 곡 더<br/>아무 노래나 일단 틀어<br/>아무렴 어때 It’s so boring<br/>아무래도 refresh가 시급한 듯해<br/>쌓여가 스트레스가<br/>배꼽 빠질 만큼만<br/>폭소하고 싶은 날이야<br/>What up my dawgs 어디야 너희<br/>올 때 병맥주랑<br/>까까 몇 개 사 와 huh<br/>클럽은 구미가 잘 안 당겨<br/>우리 집 거실로 빨랑 모여<br/>외부인은 요령껏 차단 시켜<br/>밤새 수다 떨 시간도 모자라<br/>누군 힘들어 죽겠고 누군 축제<br/>괜히 싱숭생숭 I want my youth back<br/>좀 전까지 왁자지껄<br/>하다 한 명 두 명씩 자릴 떠<br/>왜들 그리 다운돼있어<br/>뭐가 문제야 say something<br/>분위기가 겁나 싸해<br/>요새는 이런 게 유행인가<br/>왜들 그리 재미없어<br/>아 그건 나도 마찬가지<br/>Tell me what I got to do<br/>급한 대로 블루투스 켜<br/>아무 노래나 일단 틀어<br/>아무거나 신나는 걸로<br/>아무렇게나 춤춰<br/>아무렇지 않아 보이게<br/>아무 생각 하기 싫어<br/>아무개로 살래 잠시<br/>I’m sick and tired of my everyday<br/>Keep it up 한 곡 더<br/>떠나질 못할 바엔<br/>창밖은 쳐다도 안 봐<br/>회까닥해서 추태를 부려도<br/>No worries at all<br/>이미지 왜 챙겨<br/>그래 봤자 우리끼린데<br/>Ohh 늦기 전에 막판 스퍼트<br/>20대가 얼마 안 남았어<br/>편한 옷으로 갈아입어<br/>You look nice get’em high<br/>얼핏 보면 그냥 코미디<br/>이렇게 무해한 파티 처음이지<br/>만감이 교차하는 새벽 2시경<br/>술잔과 감정이 소용돌이쳐<br/>왜들 그리 다운돼있어<br/>뭐가 문제야 say something<br/>분위기가 겁나 싸해<br/>요새는 이런 게 유행인가<br/>왜들 그리 재미없어<br/>아 그건 나도 마찬가지<br/>Tell me what I got to do<br/>급한 대로 블루투스 켜<br/>아무 노래나 일단 틀어<br/>아무거나 신나는 걸로<br/>아무렇게나 춤춰<br/>아무렇지 않아 보이게<br/>아무 생각 하기 싫어<br/>아무개로 살래 잠시<br/>I’m sick and tired of my everyday<br/>Keep it up 한 곡 더<br/>아무 노래나 일단<br/>아무 노래 아무 노래<br/>아무 노래나 틀어봐<br/>아무 노래 아무 노래<br/>아무 노래나 틀어봐<br/>아무 노래 아무 노래<br/>아무 노래나 틀어봐<br/>아무 노래 아무 노래<br/>아무 노래나 KOZ<br/>\n",
       " </div>\n",
       " <button class=\"button_more arrow_u\" data-control=\"expose\" data-expose-target=\"#d_video_summary\" data-expose-type=\"more\" title=\"아무노래 가사 더보기\" type=\"button\">\n",
       " <span class=\"text\" style=\"\">접기</span>\n",
       " <i class=\"button_icons etc arrow_d\"></i>\n",
       " </button>\n",
       " </div>]"
      ]
     },
     "execution_count": 14,
     "metadata": {},
     "output_type": "execute_result"
    }
   ],
   "source": [
    "soup.find_all('div', attrs={'class':'wrap_lyric'})"
   ]
  },
  {
   "cell_type": "code",
   "execution_count": 16,
   "metadata": {
    "scrolled": true
   },
   "outputs": [
    {
     "name": "stdout",
     "output_type": "stream",
     "text": [
      "Collecting wordcloud\n",
      "  Downloading wordcloud-1.8.1-cp38-cp38-win_amd64.whl (155 kB)\n",
      "Requirement already satisfied: numpy>=1.6.1 in c:\\programdata\\anaconda3\\lib\\site-packages (from wordcloud) (1.19.2)\n",
      "Requirement already satisfied: matplotlib in c:\\programdata\\anaconda3\\lib\\site-packages (from wordcloud) (3.3.2)\n",
      "Requirement already satisfied: pillow in c:\\programdata\\anaconda3\\lib\\site-packages (from wordcloud) (8.0.1)\n",
      "Requirement already satisfied: python-dateutil>=2.1 in c:\\programdata\\anaconda3\\lib\\site-packages (from matplotlib->wordcloud) (2.8.1)\n",
      "Requirement already satisfied: certifi>=2020.06.20 in c:\\programdata\\anaconda3\\lib\\site-packages (from matplotlib->wordcloud) (2020.6.20)\n",
      "Requirement already satisfied: pyparsing!=2.0.4,!=2.1.2,!=2.1.6,>=2.0.3 in c:\\programdata\\anaconda3\\lib\\site-packages (from matplotlib->wordcloud) (2.4.7)\n",
      "Requirement already satisfied: kiwisolver>=1.0.1 in c:\\programdata\\anaconda3\\lib\\site-packages (from matplotlib->wordcloud) (1.3.0)\n",
      "Requirement already satisfied: cycler>=0.10 in c:\\programdata\\anaconda3\\lib\\site-packages (from matplotlib->wordcloud) (0.10.0)\n",
      "Requirement already satisfied: six>=1.5 in c:\\programdata\\anaconda3\\lib\\site-packages (from python-dateutil>=2.1->matplotlib->wordcloud) (1.15.0)\n",
      "Installing collected packages: wordcloud\n",
      "Successfully installed wordcloud-1.8.1\n",
      "Requirement already satisfied: matplotlib in c:\\programdata\\anaconda3\\lib\\site-packages (3.3.2)\n",
      "Requirement already satisfied: cycler>=0.10 in c:\\programdata\\anaconda3\\lib\\site-packages (from matplotlib) (0.10.0)\n",
      "Requirement already satisfied: numpy>=1.15 in c:\\programdata\\anaconda3\\lib\\site-packages (from matplotlib) (1.19.2)\n",
      "Requirement already satisfied: pillow>=6.2.0 in c:\\programdata\\anaconda3\\lib\\site-packages (from matplotlib) (8.0.1)\n",
      "Requirement already satisfied: kiwisolver>=1.0.1 in c:\\programdata\\anaconda3\\lib\\site-packages (from matplotlib) (1.3.0)\n",
      "Requirement already satisfied: python-dateutil>=2.1 in c:\\programdata\\anaconda3\\lib\\site-packages (from matplotlib) (2.8.1)\n",
      "Requirement already satisfied: certifi>=2020.06.20 in c:\\programdata\\anaconda3\\lib\\site-packages (from matplotlib) (2020.6.20)\n",
      "Requirement already satisfied: pyparsing!=2.0.4,!=2.1.2,!=2.1.6,>=2.0.3 in c:\\programdata\\anaconda3\\lib\\site-packages (from matplotlib) (2.4.7)\n",
      "Requirement already satisfied: six in c:\\programdata\\anaconda3\\lib\\site-packages (from cycler>=0.10->matplotlib) (1.15.0)\n"
     ]
    }
   ],
   "source": [
    "!pip install wordcloud\n",
    "!pip install matplotlib"
   ]
  },
  {
   "cell_type": "code",
   "execution_count": null,
   "metadata": {},
   "outputs": [],
   "source": []
  }
 ],
 "metadata": {
  "kernelspec": {
   "display_name": "Python 3",
   "language": "python",
   "name": "python3"
  },
  "language_info": {
   "codemirror_mode": {
    "name": "ipython",
    "version": 3
   },
   "file_extension": ".py",
   "mimetype": "text/x-python",
   "name": "python",
   "nbconvert_exporter": "python",
   "pygments_lexer": "ipython3",
   "version": "3.8.8"
  }
 },
 "nbformat": 4,
 "nbformat_minor": 4
}
