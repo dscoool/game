{
 "cells": [
  {
   "cell_type": "markdown",
   "id": "5914a2d6",
   "metadata": {},
   "source": [
    "## 음악차트 데이터 크롤링\n",
    "\n",
    "안녕하세요? 강사 이천입니다.\n",
    "\n",
    "2강 음악차트 데이터 크롤링에서는, 원하는 음악 사이트에 웹브라우저를 통해 접속하여,\n",
    "\n",
    "원하는 데이터를 다운받아서 텍스트 형태로 변환하는 작업을 해 보도록 할게요!!\n",
    "\n",
    "(코딩을 하실 때는 되도록 ctrl+c,v를 쓰지 마세요!! 실력이 늘지 않습니다!!)\n",
    "\n",
    "그럼 시작해 볼까요? :)\n"
   ]
  },
  {
   "cell_type": "markdown",
   "id": "ffbd4822",
   "metadata": {},
   "source": [
    "필요한 모듈을 먼저 불러옵니다!!\n",
    "\n",
    "(만약 에러가 난다면, !pip install selenium)과 같이 아래에 입력하여 필요한 모듈을 먼저 설치합니다!!"
   ]
  },
  {
   "cell_type": "code",
   "execution_count": 5,
   "id": "d34fa5eb",
   "metadata": {},
   "outputs": [
    {
     "name": "stdout",
     "output_type": "stream",
     "text": [
      "Requirement already satisfied: selenium in c:\\anaconda\\lib\\site-packages (3.141.0)"
     ]
    },
    {
     "name": "stderr",
     "output_type": "stream",
     "text": [
      "WARNING: You are using pip version 21.2.4; however, version 21.3.1 is available.\n",
      "You should consider upgrading via the 'c:\\anaconda\\python.exe -m pip install --upgrade pip' command.\n"
     ]
    },
    {
     "name": "stdout",
     "output_type": "stream",
     "text": [
      "\n",
      "Requirement already satisfied: urllib3 in c:\\anaconda\\lib\\site-packages (from selenium) (1.26.4)\n"
     ]
    },
    {
     "name": "stderr",
     "output_type": "stream",
     "text": [
      "ERROR: Could not find a version that satisfies the requirement time (from versions: none)\n",
      "ERROR: No matching distribution found for time\n",
      "WARNING: You are using pip version 21.2.4; however, version 21.3.1 is available.\n",
      "You should consider upgrading via the 'c:\\anaconda\\python.exe -m pip install --upgrade pip' command.\n"
     ]
    }
   ],
   "source": [
    "!pip install selenium\n",
    "!pip install time"
   ]
  },
  {
   "cell_type": "code",
   "execution_count": 6,
   "id": "691b5029",
   "metadata": {},
   "outputs": [],
   "source": [
    "import selenium\n",
    "import time\n",
    "import pandas as pd\n",
    "from bs4 import BeautifulSoup\n",
    "import requests\n",
    "from itertools import repeat\n",
    "from selenium import webdriver"
   ]
  },
  {
   "cell_type": "markdown",
   "id": "e0287fe5",
   "metadata": {},
   "source": [
    "이제 크롤링에 사용할 브라우저를 셋팅합니다.\n",
    "\n",
    "주로 사용하는 브라우저 외에, 추가로 브라우저를 설치해 주세요!!\n",
    "\n",
    "예를 들어, 저는 Firefox를 잘 사용하지 않기 때문에 Firefox를 새로 설치하고,\n",
    "\n",
    "Firefox를 통해 크롤링할 수 있는 'geckodriver.exe'를 다운로드하였습니다.\n",
    "\n",
    "(geckodriver 다운로드: https://github.com/mozilla/geckodriver/releases)\n",
    "\n",
    "주로 사용하는 브라우저를 사용하실 경우, 크롤링 및 자동화 작업 중 \n",
    "\n",
    "원래 본인이 사용하던 자료를 건드릴 우려가 있으니, 가급적 피해주세요!! ^^\n",
    "\n",
    "* Firefox의 브라우저 정보 - 정보 에 들어가서 Firefox 버전을 찾아서 적어 둡니다.\n",
    "\n",
    "예) 94.0.1 (64-비트)\n",
    "\n",
    "이 브라우저의 버전에 맞는 geckodriver를 다운받습니다.\n",
    "\n",
    "(geckodriver 다운로드: https://github.com/mozilla/geckodriver/releases)\n",
    "\n",
    "\n",
    "그리고, music_data_02가 들어 있는 폴더에 같이 넣어주세요!!\n",
    "\n",
    "저의 경우, c:\\users\\student\\desktop\\music-data\\에 geckodriver.exe를 \n",
    "    \n",
    "복사해 주었습니다!!"
   ]
  },
  {
   "cell_type": "markdown",
   "id": "3549bfb2",
   "metadata": {},
   "source": [
    "이제 geckodriver를 실행해 줍니다.\n",
    "\n",
    "아래 코드를 실행하면, 브라우저가 \n",
    "\n",
    "다른 창에서 실행되고, 창 크기가 최대로 확대됩니다. ^^"
   ]
  },
  {
   "cell_type": "code",
   "execution_count": 7,
   "id": "e91ec656",
   "metadata": {},
   "outputs": [],
   "source": [
    "# gecko드라이버 열기\n",
    "driver = webdriver.Firefox() \n",
    "# geckodriver 경로 추가\n",
    "driver.maximize_window() \n",
    "# 창 크기 최대\n"
   ]
  },
  {
   "cell_type": "markdown",
   "id": "21e54ed4",
   "metadata": {},
   "source": [
    "이제, 브라우저로 하여금 음악차트 페이지에 접속하도록 url을 넣어 줍니다.\n",
    "\n",
    "드라이버가 사용자의 명령에 따라, url으로 접속합니다."
   ]
  },
  {
   "cell_type": "code",
   "execution_count": 8,
   "id": "74a785ab",
   "metadata": {},
   "outputs": [],
   "source": [
    "# 드라이버가 해당 url 접속\n",
    "url = 'https://www.melon.com/chart/index.htm' # 멜론차트 페이지\n",
    "driver.get(url)"
   ]
  },
  {
   "cell_type": "markdown",
   "id": "aa23e0c3",
   "metadata": {},
   "source": [
    "차례대로 웹 화면을 브라우저가 클릭하여, 원하는 메뉴로 접근합니다."
   ]
  },
  {
   "cell_type": "markdown",
   "id": "28f31f6f",
   "metadata": {},
   "source": [
    "브라우저에서 CTRL+SHIFT+I 를 누르면,\n",
    "\n",
    "웹 개발자 화면이 열립니다.\n",
    "\n",
    "\n"
   ]
  },
  {
   "cell_type": "markdown",
   "id": "554ae4aa",
   "metadata": {},
   "source": [
    "개발자 화면에서, 브라우저의 상대 요소(xPath)를 가져오는 방법을 알아봅시다!!\n",
    "\n",
    "(월간차트 xpath:)\n",
    "/html/body/div/div[3]/div/div/form/div[1]/div/h4[2]/a"
   ]
  },
  {
   "cell_type": "code",
   "execution_count": 9,
   "id": "039aa05d",
   "metadata": {},
   "outputs": [],
   "source": [
    "# 차트파인더 클릭\n",
    "driver.find_element_by_xpath('//*[@id=\"gnb_menu\"]/ul[1]/li[1]/div/div/button/span').click()\n",
    "\n",
    "# 연대선택, 연도선택, 월선택, 장르선택\n",
    "\n",
    "# 월간차트 클릭\n",
    "driver.find_element_by_xpath('//*[@id=\"d_chart_search\"]/div/h4[2]/a').click()\n",
    "time.sleep(2)\n",
    "\n",
    "# 연대선택 2000년 클릭\n",
    "driver.find_element_by_xpath('//*[@id=\"d_chart_search\"]/div/div/div[1]/div[1]/ul/li[3]/span/label').click()\n",
    "time.sleep(2)\n",
    "\n",
    "# 연도선택 2008년 클릭\n",
    "driver.find_element_by_xpath('//*[@id=\"d_chart_search\"]/div/div/div[2]/div[1]/ul/li[2]/span/label').click()\n",
    "time.sleep(2)\n",
    "\n",
    "# 월선택 8월 클릭\n",
    "driver.find_element_by_xpath('//*[@id=\"d_chart_search\"]/div/div/div[3]/div[1]/ul/li[8]/span/label').click()\n",
    "time.sleep(2)\n",
    "\n",
    "# 장르선택 종합 클릭\n",
    "driver.find_element_by_xpath('//*[@id=\"d_chart_search\"]/div/div/div[5]/div[1]/ul/li[1]/span/label').click()\n",
    "time.sleep(2)\n",
    "\n",
    "# 검색버튼 클릭\n",
    "driver.find_element_by_xpath('//*[@id=\"d_srch_form\"]/div[2]/button/span/span').click()"
   ]
  },
  {
   "cell_type": "markdown",
   "id": "2fc9aadf",
   "metadata": {},
   "source": [
    "열려 있는 페이지에서, 전체 HTML을 다운받아 옵니다.\n",
    "\n",
    "page_source = 전체 HTML \n",
    "\n",
    "--> html 변수에 저장\n",
    "\n",
    "--> soup : HTML을 자동으로 분석하기 위해, BeautifulSoup이라는 모듈을 사용합니다.\n",
    "(이후 설명)"
   ]
  },
  {
   "cell_type": "code",
   "execution_count": 10,
   "id": "6777c624",
   "metadata": {},
   "outputs": [],
   "source": [
    "html = driver.page_source # 드라이버 현재 페이지의 html 정보 가져오기 \n",
    "                            # cf) requests.get(url)\n",
    "soup = BeautifulSoup(html, 'lxml')"
   ]
  },
  {
   "cell_type": "markdown",
   "id": "e498e128",
   "metadata": {},
   "source": [
    "이제, html이 soup이라는 변수에 저장되어 있습니다.\n",
    "\n",
    "[수프 그릇에 html이 담겨 있는 것을 상상하시면 쉬워요!! ^^]\n",
    "\n",
    "이 수프(soup)에서, 자신이 원하는 것을 건져 내는 방법을 알아보도록 할게요!!"
   ]
  },
  {
   "cell_type": "markdown",
   "id": "5e0af2a0",
   "metadata": {},
   "source": [
    "만일 아래 부분을 가져오고자 한다면\n",
    "\n",
    "\n",
    "<div class=\"ellipsis rank01\"> (# --> 이 부분을 주목해 주세요!!)\n",
    "    <span><strong>\n",
    "        <a href=\"javascript:melon.play.playSong('19080101','1903050');\" title=\"U-Go-Girl (With 낯선) 재생 - 새창\">U-Go-Girl (With 낯선)</a>\n",
    "        </strong>\n",
    "    </span>\n",
    "</div>"
   ]
  },
  {
   "cell_type": "markdown",
   "id": "addc308b",
   "metadata": {},
   "source": [
    "soup에서 해당 부분을 조건문을 걸어 찾아 줍니다.\n",
    "\n",
    "HTML파일에 있는 <div> 요소 중, 'class = ellipsis rank01'이라고 쓰여진 것만을 \n",
    "    \n",
    "찾고자 한다면,"
   ]
  },
  {
   "cell_type": "code",
   "execution_count": 11,
   "id": "cd20f6aa",
   "metadata": {},
   "outputs": [
    {
     "data": {
      "text/plain": [
       "[<div class=\"ellipsis rank01\"><span>\n",
       " <strong><a href=\"javascript:melon.play.playSong('19080101','1903050');\" title=\"U-Go-Girl (With 낯선) 재생 - 새창\">U-Go-Girl (With 낯선)</a></strong>\n",
       " </span></div>,\n",
       " <div class=\"ellipsis rank01\"><span>\n",
       " <strong><a href=\"javascript:melon.play.playSong('19080101','1897011');\" title=\"사랑과 전쟁 (Narr. 하하) 재생 - 새창\">사랑과 전쟁 (Narr. 하하)</a></strong>\n",
       " </span></div>,\n",
       " <div class=\"ellipsis rank01\"><span>\n",
       " <strong><a href=\"javascript:melon.play.playSong('19080101','1906673');\" title=\"신데렐라 재생 - 새창\">신데렐라</a></strong>\n",
       " </span></div>,\n",
       " <div class=\"ellipsis rank01\"><span>\n",
       " <strong><a href=\"javascript:melon.play.playSong('19080101','1913501');\" title=\"하루 하루 재생 - 새창\">하루 하루</a></strong>\n",
       " </span></div>,\n",
       " <div class=\"ellipsis rank01\"><span>\n",
       " <strong><a href=\"javascript:melon.play.playSong('19080101','1874397');\" title=\"So Hot 재생 - 새창\">So Hot</a></strong>\n",
       " </span></div>,\n",
       " <div class=\"ellipsis rank01\"><span>\n",
       " <strong><a href=\"javascript:melon.play.playSong('19080101','1890405');\" title=\"가지마 가지마 재생 - 새창\">가지마 가지마</a></strong>\n",
       " </span></div>,\n",
       " <div class=\"ellipsis rank01\"><span>\n",
       " <strong><a href=\"javascript:melon.play.playSong('19080101','1902384');\" title=\"사랑해 미안해 재생 - 새창\">사랑해 미안해</a></strong>\n",
       " </span></div>,\n",
       " <div class=\"ellipsis rank01\"><span>\n",
       " <strong><a href=\"javascript:melon.play.playSong('19080101','1897284');\" title=\"D.I.S.C.O  (Feat. TOP) 재생 - 새창\">D.I.S.C.O  (Feat. TOP)</a></strong>\n",
       " </span></div>,\n",
       " <div class=\"ellipsis rank01\"><span>\n",
       " <strong><a href=\"javascript:melon.play.playSong('19080101','1901874');\" title=\"이노래 재생 - 새창\">이노래</a></strong>\n",
       " </span></div>,\n",
       " <div class=\"ellipsis rank01\"><span>\n",
       " <strong><a href=\"javascript:melon.play.playSong('19080101','1907246');\" title=\"사랑을 원해 재생 - 새창\">사랑을 원해</a></strong>\n",
       " </span></div>,\n",
       " <div class=\"ellipsis rank01\"><span>\n",
       " <strong><a href=\"javascript:melon.play.playSong('19080101','1888678');\" title=\"에너지 (Feat. 선예) 재생 - 새창\">에너지 (Feat. 선예)</a></strong>\n",
       " </span></div>,\n",
       " <div class=\"ellipsis rank01\"><span>\n",
       " <strong><a href=\"javascript:melon.play.playSong('19080101','1890408');\" title=\"너 때문에 재생 - 새창\">너 때문에</a></strong>\n",
       " </span></div>,\n",
       " <div class=\"ellipsis rank01\"><span>\n",
       " <strong><a href=\"javascript:melon.play.playSong('19080101','1875215');\" title=\"누난 너무 예뻐 (Replay) 재생 - 새창\">누난 너무 예뻐 (Replay)</a></strong>\n",
       " </span></div>,\n",
       " <div class=\"ellipsis rank01\"><span>\n",
       " <strong><a href=\"javascript:melon.play.playSong('19080101','1874996');\" title=\"나만 바라봐 재생 - 새창\">나만 바라봐</a></strong>\n",
       " </span></div>,\n",
       " <div class=\"ellipsis rank01\"><span>\n",
       " <strong><a href=\"javascript:melon.play.playSong('19080101','1903057');\" title=\"Hey Mr. Big 재생 - 새창\">Hey Mr. Big</a></strong>\n",
       " </span></div>,\n",
       " <div class=\"ellipsis rank01\"><span>\n",
       " <strong><a href=\"javascript:melon.play.playSong('19080101','1879332');\" title=\"Blue Moon 재생 - 새창\">Blue Moon</a></strong>\n",
       " </span></div>,\n",
       " <div class=\"ellipsis rank01\"><span>\n",
       " <strong><a href=\"javascript:melon.play.playSong('19080101','1908552');\" title=\"Moai 재생 - 새창\">Moai</a></strong>\n",
       " </span></div>,\n",
       " <div class=\"ellipsis rank01\"><span>\n",
       " <strong><a href=\"javascript:melon.play.playSong('19080101','1913502');\" title=\"천국 재생 - 새창\">천국</a></strong>\n",
       " </span></div>,\n",
       " <div class=\"ellipsis rank01\"><span>\n",
       " <strong><a href=\"javascript:melon.play.playSong('19080101','1884329');\" title=\"안녕 나의 사랑 재생 - 새창\">안녕 나의 사랑</a></strong>\n",
       " </span></div>,\n",
       " <div class=\"ellipsis rank01\"><span>\n",
       " <strong><a href=\"javascript:melon.play.playSong('19080101','1867568');\" title=\"Beautiful Life 재생 - 새창\">Beautiful Life</a></strong>\n",
       " </span></div>,\n",
       " <div class=\"ellipsis rank01\"><span>\n",
       " <strong><a href=\"javascript:melon.play.playSong('19080101','1857969');\" title=\"못된 여자 (Feat. 서인영) 재생 - 새창\">못된 여자 (Feat. 서인영)</a></strong>\n",
       " </span></div>,\n",
       " <div class=\"ellipsis rank01\"><span>\n",
       " <strong><a href=\"javascript:melon.play.playSong('19080101','1883639');\" title=\"No.3 (Feat. Sol Flower) 재생 - 새창\">No.3 (Feat. Sol Flower)</a></strong>\n",
       " </span></div>,\n",
       " <div class=\"ellipsis rank01\"><span>\n",
       " <strong><a href=\"javascript:melon.play.playSong('19080101','1841036');\" title=\"발자국 재생 - 새창\">발자국</a></strong>\n",
       " </span></div>,\n",
       " <div class=\"ellipsis rank01\"><span>\n",
       " <strong><a href=\"javascript:melon.play.playSong('19080101','1871159');\" title=\"Too Much (With 서인영) (우리결혼했어요 화제곡) 재생 - 새창\">Too Much (With 서인영) (우리결혼했어요 화제곡)</a></strong>\n",
       " </span></div>,\n",
       " <div class=\"ellipsis rank01\"><span>\n",
       " <strong><a href=\"javascript:melon.play.playSong('19080101','1895778');\" title=\"나만 바라봐 (Part 2) 재생 - 새창\">나만 바라봐 (Part 2)</a></strong>\n",
       " </span></div>,\n",
       " <div class=\"ellipsis rank01\"><span>\n",
       " <strong><a href=\"javascript:melon.play.playSong('19080101','1903426');\" title=\"그대에게 바래요 재생 - 새창\">그대에게 바래요</a></strong>\n",
       " </span></div>,\n",
       " <div class=\"ellipsis rank01\"><span>\n",
       " <strong><a href=\"javascript:melon.play.playSong('19080101','1910359');\" title=\"가시 물고기 재생 - 새창\">가시 물고기</a></strong>\n",
       " </span></div>,\n",
       " <div class=\"ellipsis rank01\"><span>\n",
       " <strong><a href=\"javascript:melon.play.playSong('19080101','1913505');\" title=\"Oh My Friend (Feat. 노브레인) 재생 - 새창\">Oh My Friend (Feat. 노브레인)</a></strong>\n",
       " </span></div>,\n",
       " <div class=\"ellipsis rank01\"><span>\n",
       " <strong><a href=\"javascript:melon.play.playSong('19080101','1913503');\" title=\"착한 사람 재생 - 새창\">착한 사람</a></strong>\n",
       " </span></div>,\n",
       " <div class=\"ellipsis rank01\"><span>\n",
       " <strong><a href=\"javascript:melon.play.playSong('19080101','1854856');\" title=\"라라라 재생 - 새창\">라라라</a></strong>\n",
       " </span></div>,\n",
       " <div class=\"ellipsis rank01\"><span>\n",
       " <strong><a href=\"javascript:melon.play.playSong('19080101','1885180');\" title=\"그대라면 재생 - 새창\">그대라면</a></strong>\n",
       " </span></div>,\n",
       " <div class=\"ellipsis rank01\"><span>\n",
       " <strong><a href=\"javascript:melon.play.playSong('19080101','1904668');\" title=\"사랑같은건 없나봐 (우리 결혼했어요 삽입곡) 재생 - 새창\">사랑같은건 없나봐 (우리 결혼했어요 삽입곡)</a></strong>\n",
       " </span></div>,\n",
       " <div class=\"ellipsis rank01\"><span>\n",
       " <strong><a href=\"javascript:melon.play.playSong('19080101','1851229');\" title=\"서커스 (Feat. 임유경 - 달래 음악단 , ＄howgun) 재생 - 새창\">서커스 (Feat. 임유경 - 달래 음악단 , ＄howgun)</a></strong>\n",
       " </span></div>,\n",
       " <div class=\"ellipsis rank01\"><span>\n",
       " <strong><a href=\"javascript:melon.play.playSong('19080101','1884797');\" title=\"Honey 재생 - 새창\">Honey</a></strong>\n",
       " </span></div>,\n",
       " <div class=\"ellipsis rank01\"><span>\n",
       " <strong><a href=\"javascript:melon.play.playSong('19080101','1908089');\" title=\"Rock U 재생 - 새창\">Rock U</a></strong>\n",
       " </span></div>,\n",
       " <div class=\"ellipsis rank01\"><span>\n",
       " <strong><a href=\"javascript:melon.play.playSong('19080101','1868095');\" title=\"Lie 재생 - 새창\">Lie</a></strong>\n",
       " </span></div>,\n",
       " <div class=\"ellipsis rank01\"><span>\n",
       " <strong><a href=\"javascript:melon.play.playSong('19080101','1851232');\" title=\"죽도록 사랑해 (Feat. 박정현) 재생 - 새창\">죽도록 사랑해 (Feat. 박정현)</a></strong>\n",
       " </span></div>,\n",
       " <div class=\"ellipsis rank01\"><span>\n",
       " <strong><a href=\"javascript:melon.play.playSong('19080101','1913504');\" title=\"Lady 재생 - 새창\">Lady</a></strong>\n",
       " </span></div>,\n",
       " <div class=\"ellipsis rank01\"><span>\n",
       " <strong><a href=\"javascript:melon.play.playSong('19080101','1908648');\" title=\"그럴꺼면 왜 (Feat. 베이지) 재생 - 새창\">그럴꺼면 왜 (Feat. 베이지)</a></strong>\n",
       " </span></div>,\n",
       " <div class=\"ellipsis rank01\"><span>\n",
       " <strong><a href=\"javascript:melon.play.playSong('19080101','1841034');\" title=\"가슴으로 외쳐 (Rap Feat. Rhymer) 재생 - 새창\">가슴으로 외쳐 (Rap Feat. Rhymer)</a></strong>\n",
       " </span></div>,\n",
       " <div class=\"ellipsis rank01\"><span>\n",
       " <strong><a href=\"javascript:melon.play.playSong('19080101','1888933');\" title=\"날 봐, 귀순 재생 - 새창\">날 봐, 귀순</a></strong>\n",
       " </span></div>,\n",
       " <div class=\"ellipsis rank01\"><span>\n",
       " <strong><a href=\"javascript:melon.play.playSong('19080101','1850253');\" title=\"우산 (Feat. 윤하) 재생 - 새창\">우산 (Feat. 윤하)</a></strong>\n",
       " </span></div>,\n",
       " <div class=\"ellipsis rank01\"><span>\n",
       " <strong><a href=\"javascript:melon.play.playSong('19080101','1908650');\" title=\"미쳐미쳐미쳐 재생 - 새창\">미쳐미쳐미쳐</a></strong>\n",
       " </span></div>,\n",
       " <div class=\"ellipsis rank01\"><span>\n",
       " <strong><a href=\"javascript:melon.play.playSong('19080101','1874398');\" title=\"This Time 재생 - 새창\">This Time</a></strong>\n",
       " </span></div>,\n",
       " <div class=\"ellipsis rank01\"><span>\n",
       " <strong><a href=\"javascript:melon.play.playSong('19080101','1890407');\" title=\"이순간 이대로 재생 - 새창\">이순간 이대로</a></strong>\n",
       " </span></div>,\n",
       " <div class=\"ellipsis rank01\"><span>\n",
       " <strong><a href=\"javascript:melon.play.playSong('19080101','1851234');\" title=\"미치겠어 (Feat. M.A.C) 재생 - 새창\">미치겠어 (Feat. M.A.C)</a></strong>\n",
       " </span></div>,\n",
       " <div class=\"ellipsis rank01\"><span>\n",
       " <strong><a href=\"javascript:melon.play.playSong('19080101','1850242');\" title=\"One (Feat. 지선) 재생 - 새창\">One (Feat. 지선)</a></strong>\n",
       " </span></div>,\n",
       " <div class=\"ellipsis rank01\"><span>\n",
       " <strong><a href=\"javascript:melon.play.playSong('19080101','1885992');\" title=\"사랑해요 재생 - 새창\">사랑해요</a></strong>\n",
       " </span></div>,\n",
       " <div class=\"ellipsis rank01\"><span>\n",
       " <strong><a href=\"javascript:melon.play.playSong('19080101','1907014');\" title=\"헤픈여자 재생 - 새창\">헤픈여자</a></strong>\n",
       " </span></div>,\n",
       " <div class=\"ellipsis rank01\"><span>\n",
       " <strong><a href=\"javascript:melon.play.playSong('19080101','1912290');\" title=\"Kiss 재생 - 새창\">Kiss</a></strong>\n",
       " </span></div>,\n",
       " <div class=\"ellipsis rank01\"><span>\n",
       " <strong><a href=\"javascript:melon.play.playSong('19080101','1884223');\" title=\"화신 (花信) 재생 - 새창\">화신 (花信)</a></strong>\n",
       " </span></div>,\n",
       " <div class=\"ellipsis rank01\"><span>\n",
       " <strong><a href=\"javascript:melon.play.playSong('19080101','1861639');\" title=\"화분 (알렉스 Ver.) (우리결혼했어요 삽입곡) 재생 - 새창\">화분 (알렉스 Ver.) (우리결혼했어요 삽입곡)</a></strong>\n",
       " </span></div>,\n",
       " <div class=\"ellipsis rank01\"><span>\n",
       " <strong><a href=\"javascript:melon.play.playSong('19080101','1871543');\" title=\"그대만 보며 재생 - 새창\">그대만 보며</a></strong>\n",
       " </span></div>,\n",
       " <div class=\"ellipsis rank01\"><span>\n",
       " <strong><a href=\"javascript:melon.play.playSong('19080101','1913500');\" title=\"Intro (Stand Up) 재생 - 새창\">Intro (Stand Up)</a></strong>\n",
       " </span></div>,\n",
       " <div class=\"ellipsis rank01\"><span>\n",
       " <strong><a href=\"javascript:melon.play.playSong('19080101','1902386');\" title=\"그대만 보여요 (Feat. BigBang T.O.P) 재생 - 새창\">그대만 보여요 (Feat. BigBang T.O.P)</a></strong>\n",
       " </span></div>,\n",
       " <div class=\"ellipsis rank01\"><span>\n",
       " <strong><a href=\"javascript:melon.play.playSong('19080101','1815605');\" title=\"그대만이 (MBC '우리 결혼했어요' 알렉스&amp;신애 테마곡) 재생 - 새창\">그대만이 (MBC '우리 결혼했어요' 알렉스&amp;신애 테마곡)</a></strong>\n",
       " </span></div>,\n",
       " <div class=\"ellipsis rank01\"><span>\n",
       " <strong><a href=\"javascript:melon.play.playSong('19080101','1857971');\" title=\"Bad Boy 재생 - 새창\">Bad Boy</a></strong>\n",
       " </span></div>,\n",
       " <div class=\"ellipsis rank01\"><span>\n",
       " <strong><a href=\"javascript:melon.play.playSong('19080101','1891591');\" title=\"6년동안 재생 - 새창\">6년동안</a></strong>\n",
       " </span></div>,\n",
       " <div class=\"ellipsis rank01\"><span>\n",
       " <strong><a href=\"javascript:melon.play.playSong('19080101','1836107');\" title=\"추억속의 그대 재생 - 새창\">추억속의 그대</a></strong>\n",
       " </span></div>,\n",
       " <div class=\"ellipsis rank01\"><span>\n",
       " <strong><a href=\"javascript:melon.play.playSong('19080101','1900548');\" title=\"행복해야 해 재생 - 새창\">행복해야 해</a></strong>\n",
       " </span></div>,\n",
       " <div class=\"ellipsis rank01\"><span>\n",
       " <strong><a href=\"javascript:melon.play.playSong('19080101','1903048');\" title=\"천하무적 이효리 재생 - 새창\">천하무적 이효리</a></strong>\n",
       " </span></div>,\n",
       " <div class=\"ellipsis rank01\"><span>\n",
       " <strong><a href=\"javascript:melon.play.playSong('19080101','1906440');\" title=\"남자 (男子) 재생 - 새창\">남자 (男子)</a></strong>\n",
       " </span></div>,\n",
       " <div class=\"ellipsis rank01\"><span>\n",
       " <strong><a href=\"javascript:melon.play.playSong('19080101','1846941');\" title=\"바보에게... 바보가 재생 - 새창\">바보에게... 바보가</a></strong>\n",
       " </span></div>,\n",
       " <div class=\"ellipsis rank01\"><span>\n",
       " <strong><a href=\"javascript:melon.play.playSong('19080101','1914864');\" title=\"사랑이 그렇게 쉬워 (Feat. 태인) 재생 - 새창\">사랑이 그렇게 쉬워 (Feat. 태인)</a></strong>\n",
       " </span></div>,\n",
       " <div class=\"ellipsis rank01\"><span>\n",
       " <strong><a href=\"javascript:melon.play.playSong('19080101','1797709');\" title=\"아이처럼 재생 - 새창\">아이처럼</a></strong>\n",
       " </span></div>,\n",
       " <div class=\"ellipsis rank01\"><span>\n",
       " <strong><a href=\"javascript:melon.play.playSong('19080101','1908553');\" title=\"Human Dream 재생 - 새창\">Human Dream</a></strong>\n",
       " </span></div>,\n",
       " <div class=\"ellipsis rank01\"><span>\n",
       " <strong><a href=\"javascript:melon.play.playSong('19080101','1904001');\" title=\"해뜰날 (Feat. 마이티 마우스) 재생 - 새창\">해뜰날 (Feat. 마이티 마우스)</a></strong>\n",
       " </span></div>,\n",
       " <div class=\"ellipsis rank01\"><span>\n",
       " <strong><a href=\"javascript:melon.play.playSong('19080101','1890404');\" title=\"Your Eyes 재생 - 새창\">Your Eyes</a></strong>\n",
       " </span></div>,\n",
       " <div class=\"ellipsis rank01\"><span>\n",
       " <strong><a href=\"javascript:melon.play.playSong('19080101','1907237');\" title=\"한 남자 한 여자 (Duet. 한경일) 재생 - 새창\">한 남자 한 여자 (Duet. 한경일)</a></strong>\n",
       " </span></div>,\n",
       " <div class=\"ellipsis rank01\"><span>\n",
       " <strong><a href=\"javascript:melon.play.playSong('19080101','1854857');\" title=\"멋지게 이별 재생 - 새창\">멋지게 이별</a></strong>\n",
       " </span></div>,\n",
       " <div class=\"ellipsis rank01\"><span>\n",
       " <strong><a href=\"javascript:melon.play.playSong('19080101','1892695');\" title=\"결혼 (Feat. 가인 For 브라운아이드걸스) 재생 - 새창\">결혼 (Feat. 가인 For 브라운아이드걸스)</a></strong>\n",
       " </span></div>,\n",
       " <div class=\"ellipsis rank01\"><span>\n",
       " <strong><a href=\"javascript:melon.play.playSong('19080101','1911466');\" title=\"우리들의 행복한 시간 (Feat. 주(Joo) Narr. 안혜경) 재생 - 새창\">우리들의 행복한 시간 (Feat. 주(Joo) Narr. 안혜경)</a></strong>\n",
       " </span></div>,\n",
       " <div class=\"ellipsis rank01\"><span>\n",
       " <strong><a href=\"javascript:melon.play.playSong('19080101','526391');\" title=\"청혼 재생 - 새창\">청혼</a></strong>\n",
       " </span></div>,\n",
       " <div class=\"ellipsis rank01\"><span>\n",
       " <strong><a href=\"javascript:melon.play.playSong('19080101','1833966');\" title=\"기억을 걷는 시간 재생 - 새창\">기억을 걷는 시간</a></strong>\n",
       " </span></div>,\n",
       " <div class=\"ellipsis rank01\"><span>\n",
       " <strong><a href=\"javascript:melon.play.playSong('19080101','1908554');\" title=\"T'IK T'AK 재생 - 새창\">T'IK T'AK</a></strong>\n",
       " </span></div>,\n",
       " <div class=\"ellipsis rank01\"><span>\n",
       " <strong><a href=\"javascript:melon.play.playSong('19080101','1903053');\" title=\"Don't Cry 재생 - 새창\">Don't Cry</a></strong>\n",
       " </span></div>,\n",
       " <div class=\"ellipsis rank01\"><span>\n",
       " <strong><a href=\"javascript:melon.play.playSong('19080101','1903056');\" title=\"빨간자동차 (With 김건모) 재생 - 새창\">빨간자동차 (With 김건모)</a></strong>\n",
       " </span></div>,\n",
       " <div class=\"ellipsis rank01\"><span>\n",
       " <strong><a href=\"javascript:melon.play.playSong('19080101','1903049');\" title=\"Lesson 재생 - 새창\">Lesson</a></strong>\n",
       " </span></div>,\n",
       " <div class=\"ellipsis rank01\"><span>\n",
       " <strong><a href=\"javascript:melon.play.playSong('19080101','1916349');\" title=\"슬픔활용법 재생 - 새창\">슬픔활용법</a></strong>\n",
       " </span></div>,\n",
       " <div class=\"ellipsis rank01\"><span>\n",
       " <strong><a href=\"javascript:melon.play.playSong('19080101','1807098');\" title=\"One More Time 재생 - 새창\">One More Time</a></strong>\n",
       " </span></div>,\n",
       " <div class=\"ellipsis rank01\"><span>\n",
       " <strong><a href=\"javascript:melon.play.playSong('19080101','1905369');\" title=\"입버릇 (Feat. 이루) 재생 - 새창\">입버릇 (Feat. 이루)</a></strong>\n",
       " </span></div>,\n",
       " <div class=\"ellipsis rank01\"><span>\n",
       " <strong><a href=\"javascript:melon.play.playSong('19080101','1746426');\" title=\"Brave 재생 - 새창\">Brave</a></strong>\n",
       " </span></div>,\n",
       " <div class=\"ellipsis rank01\"><span>\n",
       " <strong><a href=\"javascript:melon.play.playSong('19080101','1905649');\" title=\"Just Friend (Feat. 다이나믹 듀오) 재생 - 새창\">Just Friend (Feat. 다이나믹 듀오)</a></strong>\n",
       " </span></div>,\n",
       " <div class=\"ellipsis rank01\"><span>\n",
       " <strong><a href=\"javascript:melon.play.playSong('19080101','1858074');\" title=\"I Love You (Feat. 신디) 재생 - 새창\">I Love You (Feat. 신디)</a></strong>\n",
       " </span></div>,\n",
       " <div class=\"ellipsis rank01\"><span>\n",
       " <strong><a href=\"javascript:melon.play.playSong('19080101','1849804');\" title=\"취중진담 (Feat. AND) 재생 - 새창\">취중진담 (Feat. AND)</a></strong>\n",
       " </span></div>,\n",
       " <div class=\"ellipsis rank01\"><span>\n",
       " <strong><a href=\"javascript:melon.play.playSong('19080101','1857967');\" title=\"모두 다 쉿! 재생 - 새창\">모두 다 쉿!</a></strong>\n",
       " </span></div>,\n",
       " <div class=\"ellipsis rank01\"><span>\n",
       " <strong><a href=\"javascript:melon.play.playSong('19080101','1907078');\" title=\"Find (파인드) 재생 - 새창\">Find (파인드)</a></strong>\n",
       " </span></div>,\n",
       " <div class=\"ellipsis rank01\"><span>\n",
       " <strong><a href=\"javascript:melon.play.playSong('19080101','1798752');\" title=\"슬픈 다짐 재생 - 새창\">슬픈 다짐</a></strong>\n",
       " </span></div>,\n",
       " <div class=\"ellipsis rank01\"><span>\n",
       " <strong><a href=\"javascript:melon.play.playSong('19080101','1914208');\" title=\"Good Love (Feat. BSK a.k.a 김범수) 재생 - 새창\">Good Love (Feat. BSK a.k.a 김범수)</a></strong>\n",
       " </span></div>,\n",
       " <div class=\"ellipsis rank01\"><span>\n",
       " <strong><a href=\"javascript:melon.play.playSong('19080101','1917233');\" title=\"투명인간 재생 - 새창\">투명인간</a></strong>\n",
       " </span></div>,\n",
       " <div class=\"ellipsis rank01\"><span>\n",
       " <strong><a href=\"javascript:melon.play.playSong('19080101','1765767');\" title=\"마지막 인사 재생 - 새창\">마지막 인사</a></strong>\n",
       " </span></div>,\n",
       " <div class=\"ellipsis rank01\"><span>\n",
       " <strong><a href=\"javascript:melon.play.playSong('19080101','1911260');\" title=\"안타까워 재생 - 새창\">안타까워</a></strong>\n",
       " </span></div>,\n",
       " <div class=\"ellipsis rank01\"><span>\n",
       " <strong><a href=\"javascript:melon.play.playSong('19080101','1903055');\" title=\"Sexy Boy (With 휘성) 재생 - 새창\">Sexy Boy (With 휘성)</a></strong>\n",
       " </span></div>,\n",
       " <div class=\"ellipsis rank01\"><span>\n",
       " <strong><a href=\"javascript:melon.play.playSong('19080101','1918284');\" title=\"사랑후애 (僞愛) 재생 - 새창\">사랑후애 (僞愛)</a></strong>\n",
       " </span></div>,\n",
       " <div class=\"ellipsis rank01\"><span>\n",
       " <strong><a href=\"javascript:melon.play.playSong('19080101','1907243');\" title=\"이별을 견디는 몇가지 방법 재생 - 새창\">이별을 견디는 몇가지 방법</a></strong>\n",
       " </span></div>,\n",
       " <div class=\"ellipsis rank01\"><span>\n",
       " <strong><a href=\"javascript:melon.play.playSong('19080101','1907279');\" title=\"Come On! Come On! 재생 - 새창\">Come On! Come On!</a></strong>\n",
       " </span></div>,\n",
       " <div class=\"ellipsis rank01\"><span>\n",
       " <strong><a href=\"javascript:melon.play.playSong('19080101','1883538');\" title=\"요리왕 (Cooking? Cooking!) 재생 - 새창\">요리왕 (Cooking? Cooking!)</a></strong>\n",
       " </span></div>,\n",
       " <div class=\"ellipsis rank01\"><span>\n",
       " <strong><a href=\"javascript:melon.play.playSong('19080101','1904805');\" title=\"너였구나 재생 - 새창\">너였구나</a></strong>\n",
       " </span></div>,\n",
       " <div class=\"ellipsis rank01\"><span>\n",
       " <strong><a href=\"javascript:melon.play.playSong('19080101','1913507');\" title=\"어쩜 좋아 재생 - 새창\">어쩜 좋아</a></strong>\n",
       " </span></div>,\n",
       " <div class=\"ellipsis rank01\"><span>\n",
       " <strong><a href=\"javascript:melon.play.playSong('19080101','1897615');\" title=\"파파라치 (Feat. 윤하, 태완, a.k.a C-Luv) 재생 - 새창\">파파라치 (Feat. 윤하, 태완, a.k.a C-Luv)</a></strong>\n",
       " </span></div>]"
      ]
     },
     "execution_count": 11,
     "metadata": {},
     "output_type": "execute_result"
    }
   ],
   "source": [
    "soup.find_all('div', attrs={'class': 'ellipsis rank01'})\n"
   ]
  },
  {
   "cell_type": "markdown",
   "id": "8d2781fd",
   "metadata": {},
   "source": [
    "위에서 조건문을 걸어 낸 'div', attrs={'class': 'ellipsis rank01'}\n",
    "\n",
    "중에서 'title'부분만을 추출하고자 한다면,\n"
   ]
  },
  {
   "cell_type": "code",
   "execution_count": 12,
   "id": "8066da9a",
   "metadata": {},
   "outputs": [
    {
     "data": {
      "text/plain": [
       "['U-Go-Girl (With 낯선)',\n",
       " '사랑과 전쟁 (Narr. 하하)',\n",
       " '신데렐라',\n",
       " '하루 하루',\n",
       " 'So Hot',\n",
       " '가지마 가지마',\n",
       " '사랑해 미안해',\n",
       " 'D.I.S.C.O  (Feat. TOP)',\n",
       " '이노래',\n",
       " '사랑을 원해',\n",
       " '에너지 (Feat. 선예)',\n",
       " '너 때문에',\n",
       " '누난 너무 예뻐 (Replay)',\n",
       " '나만 바라봐',\n",
       " 'Hey Mr. Big',\n",
       " 'Blue Moon',\n",
       " 'Moai',\n",
       " '천국',\n",
       " '안녕 나의 사랑',\n",
       " 'Beautiful Life',\n",
       " '못된 여자 (Feat. 서인영)',\n",
       " 'No.3 (Feat. Sol Flower)',\n",
       " '발자국',\n",
       " 'Too Much (With 서인영) (우리결혼했어요 화제곡)',\n",
       " '나만 바라봐 (Part 2)',\n",
       " '그대에게 바래요',\n",
       " '가시 물고기',\n",
       " 'Oh My Friend (Feat. 노브레인)',\n",
       " '착한 사람',\n",
       " '라라라',\n",
       " '그대라면',\n",
       " '사랑같은건 없나봐 (우리 결혼했어요 삽입곡)',\n",
       " '서커스 (Feat. 임유경 - 달래 음악단 , ＄howgun)',\n",
       " 'Honey',\n",
       " 'Rock U',\n",
       " 'Lie',\n",
       " '죽도록 사랑해 (Feat. 박정현)',\n",
       " 'Lady',\n",
       " '그럴꺼면 왜 (Feat. 베이지)',\n",
       " '가슴으로 외쳐 (Rap Feat. Rhymer)',\n",
       " '날 봐, 귀순',\n",
       " '우산 (Feat. 윤하)',\n",
       " '미쳐미쳐미쳐',\n",
       " 'This Time',\n",
       " '이순간 이대로',\n",
       " '미치겠어 (Feat. M.A.C)',\n",
       " 'One (Feat. 지선)',\n",
       " '사랑해요',\n",
       " '헤픈여자',\n",
       " 'Kiss',\n",
       " '화신 (花信)',\n",
       " '화분 (알렉스 Ver.) (우리결혼했어요 삽입곡)',\n",
       " '그대만 보며',\n",
       " 'Intro (Stand Up)',\n",
       " '그대만 보여요 (Feat. BigBang T.O.P)',\n",
       " \"그대만이 (MBC '우리 결혼했어요' 알렉스&신애 테마곡)\",\n",
       " 'Bad Boy',\n",
       " '6년동안',\n",
       " '추억속의 그대',\n",
       " '행복해야 해',\n",
       " '천하무적 이효리',\n",
       " '남자 (男子)',\n",
       " '바보에게... 바보가',\n",
       " '사랑이 그렇게 쉬워 (Feat. 태인)',\n",
       " '아이처럼',\n",
       " 'Human Dream',\n",
       " '해뜰날 (Feat. 마이티 마우스)',\n",
       " 'Your Eyes',\n",
       " '한 남자 한 여자 (Duet. 한경일)',\n",
       " '멋지게 이별',\n",
       " '결혼 (Feat. 가인 For 브라운아이드걸스)',\n",
       " '우리들의 행복한 시간 (Feat. 주(Joo) Narr. 안혜경)',\n",
       " '청혼',\n",
       " '기억을 걷는 시간',\n",
       " \"T'IK T'AK\",\n",
       " \"Don't Cry\",\n",
       " '빨간자동차 (With 김건모)',\n",
       " 'Lesson',\n",
       " '슬픔활용법',\n",
       " 'One More Time',\n",
       " '입버릇 (Feat. 이루)',\n",
       " 'Brave',\n",
       " 'Just Friend (Feat. 다이나믹 듀오)',\n",
       " 'I Love You (Feat. 신디)',\n",
       " '취중진담 (Feat. AND)',\n",
       " '모두 다 쉿!',\n",
       " 'Find (파인드)',\n",
       " '슬픈 다짐',\n",
       " 'Good Love (Feat. BSK a.k.a 김범수)',\n",
       " '투명인간',\n",
       " '마지막 인사',\n",
       " '안타까워',\n",
       " 'Sexy Boy (With 휘성)',\n",
       " '사랑후애 (僞愛)',\n",
       " '이별을 견디는 몇가지 방법',\n",
       " 'Come On! Come On!',\n",
       " '요리왕 (Cooking? Cooking!)',\n",
       " '너였구나',\n",
       " '어쩜 좋아',\n",
       " '파파라치 (Feat. 윤하, 태완, a.k.a C-Luv)']"
      ]
     },
     "execution_count": 12,
     "metadata": {},
     "output_type": "execute_result"
    }
   ],
   "source": [
    "[title.find('a').get_text() for title in soup.find_all('div', attrs={'class': 'ellipsis rank01'})]"
   ]
  },
  {
   "cell_type": "code",
   "execution_count": 13,
   "id": "81ae2f21",
   "metadata": {},
   "outputs": [
    {
     "data": {
      "text/plain": [
       "[<span class=\"checkEllipsis\" style=\"display:none\"><a class=\"fc_mgray\" href=\"javascript:melon.link.goArtistDetail('1713');\" title=\"이효리 - 페이지 이동\">이효리</a></span>,\n",
       " <span class=\"checkEllipsis\" style=\"display:none\"><a class=\"fc_mgray\" href=\"javascript:melon.link.goArtistDetail('236815');\" title=\"다비치 - 페이지 이동\">다비치</a></span>,\n",
       " <span class=\"checkEllipsis\" style=\"display:none\"><a class=\"fc_mgray\" href=\"javascript:melon.link.goArtistDetail('26265');\" title=\"서인영 - 페이지 이동\">서인영</a></span>,\n",
       " <span class=\"checkEllipsis\" style=\"display:none\"><a class=\"fc_mgray\" href=\"javascript:melon.link.goArtistDetail('198094');\" title=\"BIGBANG - 페이지 이동\">BIGBANG</a></span>,\n",
       " <span class=\"checkEllipsis\" style=\"display:none\"><a class=\"fc_mgray\" href=\"javascript:melon.link.goArtistDetail('217764');\" title=\"원더걸스 - 페이지 이동\">원더걸스</a></span>,\n",
       " <span class=\"checkEllipsis\" style=\"display:none\"><a class=\"fc_mgray\" href=\"javascript:melon.link.goArtistDetail('100742');\" title=\"브라운 아이즈 - 페이지 이동\">브라운 아이즈</a></span>,\n",
       " <span class=\"checkEllipsis\" style=\"display:none\"><a class=\"fc_mgray\" href=\"javascript:melon.link.goArtistDetail('227595');\" title=\"지아 - 페이지 이동\">지아</a></span>,\n",
       " <span class=\"checkEllipsis\" style=\"display:none\"><a class=\"fc_mgray\" href=\"javascript:melon.link.goArtistDetail('1100');\" title=\"엄정화 - 페이지 이동\">엄정화</a></span>,\n",
       " <span class=\"checkEllipsis\" style=\"display:none\"><a class=\"fc_mgray\" href=\"javascript:melon.link.goArtistDetail('253866');\" title=\"2am - 페이지 이동\">2am</a></span>,\n",
       " <span class=\"checkEllipsis\" style=\"display:none\"><a class=\"fc_mgray\" href=\"javascript:melon.link.goArtistDetail('100004');\" title=\"쿨 (COOL) - 페이지 이동\">쿨 (COOL)</a></span>,\n",
       " <span class=\"checkEllipsis\" style=\"display:none\"><a class=\"fc_mgray\" href=\"javascript:melon.link.goArtistDetail('239366');\" title=\"마이티 마우스 - 페이지 이동\">마이티 마우스</a></span>,\n",
       " <span class=\"checkEllipsis\" style=\"display:none\"><a class=\"fc_mgray\" href=\"javascript:melon.link.goArtistDetail('100742');\" title=\"브라운 아이즈 - 페이지 이동\">브라운 아이즈</a></span>,\n",
       " <span class=\"checkEllipsis\" style=\"display:none\"><a class=\"fc_mgray\" href=\"javascript:melon.link.goArtistDetail('247639');\" title=\"SHINee (샤이니) - 페이지 이동\">SHINee (샤이니)</a></span>,\n",
       " <span class=\"checkEllipsis\" style=\"display:none\"><a class=\"fc_mgray\" href=\"javascript:melon.link.goArtistDetail('247621');\" title=\"태양 - 페이지 이동\">태양</a></span>,\n",
       " <span class=\"checkEllipsis\" style=\"display:none\"><a class=\"fc_mgray\" href=\"javascript:melon.link.goArtistDetail('1713');\" title=\"이효리 - 페이지 이동\">이효리</a></span>,\n",
       " <span class=\"checkEllipsis\" style=\"display:none\"><a class=\"fc_mgray\" href=\"javascript:melon.link.goArtistDetail('181679');\" title=\"씨야 - 페이지 이동\">씨야</a>, <a class=\"fc_mgray\" href=\"javascript:melon.link.goArtistDetail('236815');\" title=\"다비치 - 페이지 이동\">다비치</a>, <a class=\"fc_mgray\" href=\"javascript:melon.link.goArtistDetail('227655');\" title=\"블랙펄 - 페이지 이동\">블랙펄</a></span>,\n",
       " <span class=\"checkEllipsis\" style=\"display:none\"><a class=\"fc_mgray\" href=\"javascript:melon.link.goArtistDetail('1868');\" title=\"서태지 - 페이지 이동\">서태지</a></span>,\n",
       " <span class=\"checkEllipsis\" style=\"display:none\"><a class=\"fc_mgray\" href=\"javascript:melon.link.goArtistDetail('198094');\" title=\"BIGBANG - 페이지 이동\">BIGBANG</a></span>,\n",
       " <span class=\"checkEllipsis\" style=\"display:none\"><a class=\"fc_mgray\" href=\"javascript:melon.link.goArtistDetail('3305');\" title=\"성시경 - 페이지 이동\">성시경</a></span>,\n",
       " <span class=\"checkEllipsis\" style=\"display:none\"><a class=\"fc_mgray\" href=\"javascript:melon.link.goArtistDetail('108794');\" title=\"V.O.S - 페이지 이동\">V.O.S</a></span>,\n",
       " <span class=\"checkEllipsis\" style=\"display:none\"><a class=\"fc_mgray\" href=\"javascript:melon.link.goArtistDetail('106928');\" title=\"원투 - 페이지 이동\">원투</a></span>,\n",
       " <span class=\"checkEllipsis\" style=\"display:none\"><a class=\"fc_mgray\" href=\"javascript:melon.link.goArtistDetail('101886');\" title=\"배치기 - 페이지 이동\">배치기</a></span>,\n",
       " <span class=\"checkEllipsis\" style=\"display:none\"><a class=\"fc_mgray\" href=\"javascript:melon.link.goArtistDetail('175155');\" title=\"먼데이 키즈 (Monday Kiz) - 페이지 이동\">먼데이 키즈 (Monday Kiz)</a></span>,\n",
       " <span class=\"checkEllipsis\" style=\"display:none\"><a class=\"fc_mgray\" href=\"javascript:melon.link.goArtistDetail('182206');\" title=\"크라운제이 (CROWN J) - 페이지 이동\">크라운제이 (CROWN J)</a></span>,\n",
       " <span class=\"checkEllipsis\" style=\"display:none\"><a class=\"fc_mgray\" href=\"javascript:melon.link.goArtistDetail('6984');\" title=\"G-DRAGON - 페이지 이동\">G-DRAGON</a></span>,\n",
       " <span class=\"checkEllipsis\" style=\"display:none\"><a class=\"fc_mgray\" href=\"javascript:melon.link.goArtistDetail('227228');\" title=\"솔비 - 페이지 이동\">솔비</a>, <a class=\"fc_mgray\" href=\"javascript:melon.link.goArtistDetail('4388');\" title=\"김종욱 - 페이지 이동\">김종욱</a></span>,\n",
       " <span class=\"checkEllipsis\" style=\"display:none\"><a class=\"fc_mgray\" href=\"javascript:melon.link.goArtistDetail('161636');\" title=\"엠씨더맥스 (M.C the MAX) - 페이지 이동\">엠씨더맥스 (M.C the MAX)</a></span>,\n",
       " <span class=\"checkEllipsis\" style=\"display:none\"><a class=\"fc_mgray\" href=\"javascript:melon.link.goArtistDetail('198094');\" title=\"BIGBANG - 페이지 이동\">BIGBANG</a></span>,\n",
       " <span class=\"checkEllipsis\" style=\"display:none\"><a class=\"fc_mgray\" href=\"javascript:melon.link.goArtistDetail('198094');\" title=\"BIGBANG - 페이지 이동\">BIGBANG</a></span>,\n",
       " <span class=\"checkEllipsis\" style=\"display:none\"><a class=\"fc_mgray\" href=\"javascript:melon.link.goArtistDetail('108363');\" title=\"SG 워너비 - 페이지 이동\">SG 워너비</a></span>,\n",
       " <span class=\"checkEllipsis\" style=\"display:none\"><a class=\"fc_mgray\" href=\"javascript:melon.link.goArtistDetail('51146');\" title=\"알렉스 - 페이지 이동\">알렉스</a></span>,\n",
       " <span class=\"checkEllipsis\" style=\"display:none\"><a class=\"fc_mgray\" href=\"javascript:melon.link.goArtistDetail('174997');\" title=\"가비엔제이 - 페이지 이동\">가비엔제이</a></span>,\n",
       " <span class=\"checkEllipsis\" style=\"display:none\"><a class=\"fc_mgray\" href=\"javascript:melon.link.goArtistDetail('11538');\" title=\"MC몽 - 페이지 이동\">MC몽</a></span>,\n",
       " <span class=\"checkEllipsis\" style=\"display:none\"><a class=\"fc_mgray\" href=\"javascript:melon.link.goArtistDetail('1714');\" title=\"옥주현 - 페이지 이동\">옥주현</a></span>,\n",
       " <span class=\"checkEllipsis\" style=\"display:none\"><a class=\"fc_mgray\" href=\"javascript:melon.link.goArtistDetail('222128');\" title=\"카라 - 페이지 이동\">카라</a></span>,\n",
       " <span class=\"checkEllipsis\" style=\"display:none\"><a class=\"fc_mgray\" href=\"javascript:melon.link.goArtistDetail('174997');\" title=\"가비엔제이 - 페이지 이동\">가비엔제이</a></span>,\n",
       " <span class=\"checkEllipsis\" style=\"display:none\"><a class=\"fc_mgray\" href=\"javascript:melon.link.goArtistDetail('11538');\" title=\"MC몽 - 페이지 이동\">MC몽</a></span>,\n",
       " <span class=\"checkEllipsis\" style=\"display:none\"><a class=\"fc_mgray\" href=\"javascript:melon.link.goArtistDetail('198094');\" title=\"BIGBANG - 페이지 이동\">BIGBANG</a></span>,\n",
       " <span class=\"checkEllipsis\" style=\"display:none\"><a class=\"fc_mgray\" href=\"javascript:melon.link.goArtistDetail('211782');\" title=\"PK 헤만 - 페이지 이동\">PK 헤만</a></span>,\n",
       " <span class=\"checkEllipsis\" style=\"display:none\"><a class=\"fc_mgray\" href=\"javascript:melon.link.goArtistDetail('175155');\" title=\"먼데이 키즈 (Monday Kiz) - 페이지 이동\">먼데이 키즈 (Monday Kiz)</a></span>,\n",
       " <span class=\"checkEllipsis\" style=\"display:none\"><a class=\"fc_mgray\" href=\"javascript:melon.link.goArtistDetail('251080');\" title=\"대성 - 페이지 이동\">대성</a></span>,\n",
       " <span class=\"checkEllipsis\" style=\"display:none\"><a class=\"fc_mgray\" href=\"javascript:melon.link.goArtistDetail('108356');\" title=\"에픽하이 (EPIK HIGH) - 페이지 이동\">에픽하이 (EPIK HIGH)</a></span>,\n",
       " <span class=\"checkEllipsis\" style=\"display:none\"><a class=\"fc_mgray\" href=\"javascript:melon.link.goArtistDetail('108613');\" title=\"바나나 걸 - 페이지 이동\">바나나 걸</a></span>,\n",
       " <span class=\"checkEllipsis\" style=\"display:none\"><a class=\"fc_mgray\" href=\"javascript:melon.link.goArtistDetail('217764');\" title=\"원더걸스 - 페이지 이동\">원더걸스</a></span>,\n",
       " <span class=\"checkEllipsis\" style=\"display:none\"><a class=\"fc_mgray\" href=\"javascript:melon.link.goArtistDetail('100742');\" title=\"브라운 아이즈 - 페이지 이동\">브라운 아이즈</a></span>,\n",
       " <span class=\"checkEllipsis\" style=\"display:none\"><a class=\"fc_mgray\" href=\"javascript:melon.link.goArtistDetail('11538');\" title=\"MC몽 - 페이지 이동\">MC몽</a></span>,\n",
       " <span class=\"checkEllipsis\" style=\"display:none\"><a class=\"fc_mgray\" href=\"javascript:melon.link.goArtistDetail('108356');\" title=\"에픽하이 (EPIK HIGH) - 페이지 이동\">에픽하이 (EPIK HIGH)</a></span>,\n",
       " <span class=\"checkEllipsis\" style=\"display:none\"><a class=\"fc_mgray\" href=\"javascript:melon.link.goArtistDetail('214784');\" title=\"이수 (엠씨더맥스) - 페이지 이동\">이수 (엠씨더맥스)</a></span>,\n",
       " <span class=\"checkEllipsis\" style=\"display:none\"><a class=\"fc_mgray\" href=\"javascript:melon.link.goArtistDetail('57315');\" title=\"일 락 - 페이지 이동\">일 락</a></span>,\n",
       " <span class=\"checkEllipsis\" style=\"display:none\"><a class=\"fc_mgray\" href=\"javascript:melon.link.goArtistDetail('889');\" title=\"김건모 - 페이지 이동\">김건모</a></span>,\n",
       " <span class=\"checkEllipsis\" style=\"display:none\"><a class=\"fc_mgray\" href=\"javascript:melon.link.goArtistDetail('1191');\" title=\"박효신 - 페이지 이동\">박효신</a></span>,\n",
       " <span class=\"checkEllipsis\" style=\"display:none\"><a class=\"fc_mgray\" href=\"javascript:melon.link.goArtistDetail('51146');\" title=\"알렉스 - 페이지 이동\">알렉스</a></span>,\n",
       " <span class=\"checkEllipsis\" style=\"display:none\"><a class=\"fc_mgray\" href=\"javascript:melon.link.goArtistDetail('39256');\" title=\"이정 - 페이지 이동\">이정</a></span>,\n",
       " <span class=\"checkEllipsis\" style=\"display:none\"><a class=\"fc_mgray\" href=\"javascript:melon.link.goArtistDetail('198094');\" title=\"BIGBANG - 페이지 이동\">BIGBANG</a></span>,\n",
       " <span class=\"checkEllipsis\" style=\"display:none\"><a class=\"fc_mgray\" href=\"javascript:melon.link.goArtistDetail('227595');\" title=\"지아 - 페이지 이동\">지아</a></span>,\n",
       " <span class=\"checkEllipsis\" style=\"display:none\"><a class=\"fc_mgray\" href=\"javascript:melon.link.goArtistDetail('4388');\" title=\"김종욱 - 페이지 이동\">김종욱</a></span>,\n",
       " <span class=\"checkEllipsis\" style=\"display:none\"><a class=\"fc_mgray\" href=\"javascript:melon.link.goArtistDetail('226582');\" title=\"손담비 - 페이지 이동\">손담비</a></span>,\n",
       " <span class=\"checkEllipsis\" style=\"display:none\"><a class=\"fc_mgray\" href=\"javascript:melon.link.goArtistDetail('27033');\" title=\"별 - 페이지 이동\">별</a></span>,\n",
       " <span class=\"checkEllipsis\" style=\"display:none\"><a class=\"fc_mgray\" href=\"javascript:melon.link.goArtistDetail('58793');\" title=\"이승기 - 페이지 이동\">이승기</a></span>,\n",
       " <span class=\"checkEllipsis\" style=\"display:none\"><a class=\"fc_mgray\" href=\"javascript:melon.link.goArtistDetail('6225');\" title=\"이기찬 - 페이지 이동\">이기찬</a></span>,\n",
       " <span class=\"checkEllipsis\" style=\"display:none\"><a class=\"fc_mgray\" href=\"javascript:melon.link.goArtistDetail('1713');\" title=\"이효리 - 페이지 이동\">이효리</a></span>,\n",
       " <span class=\"checkEllipsis\" style=\"display:none\"><a class=\"fc_mgray\" href=\"javascript:melon.link.goArtistDetail('223392');\" title=\"남규리 - 페이지 이동\">남규리</a></span>,\n",
       " <span class=\"checkEllipsis\" style=\"display:none\"><a class=\"fc_mgray\" href=\"javascript:melon.link.goArtistDetail('4263');\" title=\"박명수 - 페이지 이동\">박명수</a></span>,\n",
       " <span class=\"checkEllipsis\" style=\"display:none\"><a class=\"fc_mgray\" href=\"javascript:melon.link.goArtistDetail('194009');\" title=\"나몰라패밀리 (Namolla Family) - 페이지 이동\">나몰라패밀리 (Namolla Family)</a></span>,\n",
       " <span class=\"checkEllipsis\" style=\"display:none\"><a class=\"fc_mgray\" href=\"javascript:melon.link.goArtistDetail('925');\" title=\"김동률 - 페이지 이동\">김동률</a></span>,\n",
       " <span class=\"checkEllipsis\" style=\"display:none\"><a class=\"fc_mgray\" href=\"javascript:melon.link.goArtistDetail('1868');\" title=\"서태지 - 페이지 이동\">서태지</a></span>,\n",
       " <span class=\"checkEllipsis\" style=\"display:none\"><a class=\"fc_mgray\" href=\"javascript:melon.link.goArtistDetail('5907');\" title=\"신지 - 페이지 이동\">신지</a></span>,\n",
       " <span class=\"checkEllipsis\" style=\"display:none\"><a class=\"fc_mgray\" href=\"javascript:melon.link.goArtistDetail('100742');\" title=\"브라운 아이즈 - 페이지 이동\">브라운 아이즈</a></span>,\n",
       " <span class=\"checkEllipsis\" style=\"display:none\"><a class=\"fc_mgray\" href=\"javascript:melon.link.goArtistDetail('236880');\" title=\"란 (RAN) - 페이지 이동\">란 (RAN)</a></span>,\n",
       " <span class=\"checkEllipsis\" style=\"display:none\"><a class=\"fc_mgray\" href=\"javascript:melon.link.goArtistDetail('108363');\" title=\"SG 워너비 - 페이지 이동\">SG 워너비</a></span>,\n",
       " <span class=\"checkEllipsis\" style=\"display:none\"><a class=\"fc_mgray\" href=\"javascript:melon.link.goArtistDetail('12872');\" title=\"정철 (최정철) - 페이지 이동\">정철 (최정철)</a></span>,\n",
       " <span class=\"checkEllipsis\" style=\"display:none\"><a class=\"fc_mgray\" href=\"javascript:melon.link.goArtistDetail('428828');\" title=\"미노 (프리스타일) - 페이지 이동\">미노 (프리스타일)</a>, <a class=\"fc_mgray\" href=\"javascript:melon.link.goArtistDetail('255466');\" title=\"타우 - 페이지 이동\">타우</a></span>,\n",
       " <span class=\"checkEllipsis\" style=\"display:none\"><a class=\"fc_mgray\" href=\"javascript:melon.link.goArtistDetail('105623');\" title=\"노을 - 페이지 이동\">노을</a></span>,\n",
       " <span class=\"checkEllipsis\" style=\"display:none\"><a class=\"fc_mgray\" href=\"javascript:melon.link.goArtistDetail('101094');\" title=\"넬 (NELL) - 페이지 이동\">넬 (NELL)</a></span>,\n",
       " <span class=\"checkEllipsis\" style=\"display:none\"><a class=\"fc_mgray\" href=\"javascript:melon.link.goArtistDetail('1868');\" title=\"서태지 - 페이지 이동\">서태지</a></span>,\n",
       " <span class=\"checkEllipsis\" style=\"display:none\"><a class=\"fc_mgray\" href=\"javascript:melon.link.goArtistDetail('1713');\" title=\"이효리 - 페이지 이동\">이효리</a></span>,\n",
       " <span class=\"checkEllipsis\" style=\"display:none\"><a class=\"fc_mgray\" href=\"javascript:melon.link.goArtistDetail('1713');\" title=\"이효리 - 페이지 이동\">이효리</a></span>,\n",
       " <span class=\"checkEllipsis\" style=\"display:none\"><a class=\"fc_mgray\" href=\"javascript:melon.link.goArtistDetail('1713');\" title=\"이효리 - 페이지 이동\">이효리</a></span>,\n",
       " <span class=\"checkEllipsis\" style=\"display:none\"><a class=\"fc_mgray\" href=\"javascript:melon.link.goArtistDetail('6502');\" title=\"김범수 - 페이지 이동\">김범수</a></span>,\n",
       " <span class=\"checkEllipsis\" style=\"display:none\"><a class=\"fc_mgray\" href=\"javascript:melon.link.goArtistDetail('101487');\" title=\"쥬얼리 - 페이지 이동\">쥬얼리</a></span>,\n",
       " <span class=\"checkEllipsis\" style=\"display:none\"><a class=\"fc_mgray\" href=\"javascript:melon.link.goArtistDetail('3596');\" title=\"제드 - 페이지 이동\">제드</a></span>,\n",
       " <span class=\"checkEllipsis\" style=\"display:none\"><a class=\"fc_mgray\" href=\"javascript:melon.link.goArtistDetail('2845');\" title=\"Jennifer Lopez - 페이지 이동\">Jennifer Lopez</a></span>,\n",
       " <span class=\"checkEllipsis\" style=\"display:none\"><a class=\"fc_mgray\" href=\"javascript:melon.link.goArtistDetail('36142');\" title=\"BMK - 페이지 이동\">BMK</a></span>,\n",
       " <span class=\"checkEllipsis\" style=\"display:none\"><a class=\"fc_mgray\" href=\"javascript:melon.link.goArtistDetail('236880');\" title=\"란 (RAN) - 페이지 이동\">란 (RAN)</a></span>,\n",
       " <span class=\"checkEllipsis\" style=\"display:none\"><a class=\"fc_mgray\" href=\"javascript:melon.link.goArtistDetail('100183');\" title=\"플라이 투 더 스카이 - 페이지 이동\">플라이 투 더 스카이</a></span>,\n",
       " <span class=\"checkEllipsis\" style=\"display:none\"><a class=\"fc_mgray\" href=\"javascript:melon.link.goArtistDetail('101487');\" title=\"쥬얼리 - 페이지 이동\">쥬얼리</a></span>,\n",
       " <span class=\"checkEllipsis\" style=\"display:none\"><a class=\"fc_mgray\" href=\"javascript:melon.link.goArtistDetail('170541');\" title=\"SS501 - 페이지 이동\">SS501</a></span>,\n",
       " <span class=\"checkEllipsis\" style=\"display:none\"><a class=\"fc_mgray\" href=\"javascript:melon.link.goArtistDetail('236815');\" title=\"다비치 - 페이지 이동\">다비치</a></span>,\n",
       " <span class=\"checkEllipsis\" style=\"display:none\"><a class=\"fc_mgray\" href=\"javascript:melon.link.goArtistDetail('108358');\" title=\"다이나믹 듀오 - 페이지 이동\">다이나믹 듀오</a></span>,\n",
       " <span class=\"checkEllipsis\" style=\"display:none\"><a class=\"fc_mgray\" href=\"javascript:melon.link.goArtistDetail('226582');\" title=\"손담비 - 페이지 이동\">손담비</a></span>,\n",
       " <span class=\"checkEllipsis\" style=\"display:none\"><a class=\"fc_mgray\" href=\"javascript:melon.link.goArtistDetail('198094');\" title=\"BIGBANG - 페이지 이동\">BIGBANG</a></span>,\n",
       " <span class=\"checkEllipsis\" style=\"display:none\"><a class=\"fc_mgray\" href=\"javascript:melon.link.goArtistDetail('102409');\" title=\"제이워크 - 페이지 이동\">제이워크</a></span>,\n",
       " <span class=\"checkEllipsis\" style=\"display:none\"><a class=\"fc_mgray\" href=\"javascript:melon.link.goArtistDetail('1713');\" title=\"이효리 - 페이지 이동\">이효리</a></span>,\n",
       " <span class=\"checkEllipsis\" style=\"display:none\"><a class=\"fc_mgray\" href=\"javascript:melon.link.goArtistDetail('226490');\" title=\"FTISLAND (FT아일랜드) - 페이지 이동\">FTISLAND (FT아일랜드)</a></span>,\n",
       " <span class=\"checkEllipsis\" style=\"display:none\"><a class=\"fc_mgray\" href=\"javascript:melon.link.goArtistDetail('100004');\" title=\"쿨 (COOL) - 페이지 이동\">쿨 (COOL)</a></span>,\n",
       " <span class=\"checkEllipsis\" style=\"display:none\"><a class=\"fc_mgray\" href=\"javascript:melon.link.goArtistDetail('253755');\" title=\"한영 - 페이지 이동\">한영</a></span>,\n",
       " <span class=\"checkEllipsis\" style=\"display:none\"><a class=\"fc_mgray\" href=\"javascript:melon.link.goArtistDetail('248146');\" title=\"SUPER JUNIOR-Happy (슈퍼주니어-Happy) - 페이지 이동\">SUPER JUNIOR-Happy (슈퍼주니어-Happy)</a></span>,\n",
       " <span class=\"checkEllipsis\" style=\"display:none\"><a class=\"fc_mgray\" href=\"javascript:melon.link.goArtistDetail('172281');\" title=\"견우 (Kyunwoo) - 페이지 이동\">견우 (Kyunwoo)</a></span>,\n",
       " <span class=\"checkEllipsis\" style=\"display:none\"><a class=\"fc_mgray\" href=\"javascript:melon.link.goArtistDetail('43443');\" title=\"메이비 (Maybee) - 페이지 이동\">메이비 (Maybee)</a></span>,\n",
       " <span class=\"checkEllipsis\" style=\"display:none\"><a class=\"fc_mgray\" href=\"javascript:melon.link.goArtistDetail('237439');\" title=\"아주 - 페이지 이동\">아주</a></span>]"
      ]
     },
     "execution_count": 13,
     "metadata": {},
     "output_type": "execute_result"
    }
   ],
   "source": [
    "\n",
    "soup.find_all('span', attrs={'class':'checkEllipsis'})\n"
   ]
  },
  {
   "cell_type": "markdown",
   "id": "c689c3d6",
   "metadata": {},
   "source": [
    "창작자명만을 조건문을 걸어 찾기 위해, 아래와 같이 만들어 줍니다.\n"
   ]
  },
  {
   "cell_type": "code",
   "execution_count": 14,
   "id": "4b28e907",
   "metadata": {},
   "outputs": [
    {
     "data": {
      "text/plain": [
       "['이효리',\n",
       " '다비치',\n",
       " '서인영',\n",
       " 'BIGBANG',\n",
       " '원더걸스',\n",
       " '브라운 아이즈',\n",
       " '지아',\n",
       " '엄정화',\n",
       " '2am',\n",
       " '쿨 (COOL)',\n",
       " '마이티 마우스',\n",
       " '브라운 아이즈',\n",
       " 'SHINee (샤이니)',\n",
       " '태양',\n",
       " '이효리',\n",
       " '씨야, 다비치, 블랙펄',\n",
       " '서태지',\n",
       " 'BIGBANG',\n",
       " '성시경',\n",
       " 'V.O.S',\n",
       " '원투',\n",
       " '배치기',\n",
       " '먼데이 키즈 (Monday Kiz)',\n",
       " '크라운제이 (CROWN J)',\n",
       " 'G-DRAGON',\n",
       " '솔비, 김종욱',\n",
       " '엠씨더맥스 (M.C the MAX)',\n",
       " 'BIGBANG',\n",
       " 'BIGBANG',\n",
       " 'SG 워너비',\n",
       " '알렉스',\n",
       " '가비엔제이',\n",
       " 'MC몽',\n",
       " '옥주현',\n",
       " '카라',\n",
       " '가비엔제이',\n",
       " 'MC몽',\n",
       " 'BIGBANG',\n",
       " 'PK 헤만',\n",
       " '먼데이 키즈 (Monday Kiz)',\n",
       " '대성',\n",
       " '에픽하이 (EPIK HIGH)',\n",
       " '바나나 걸',\n",
       " '원더걸스',\n",
       " '브라운 아이즈',\n",
       " 'MC몽',\n",
       " '에픽하이 (EPIK HIGH)',\n",
       " '이수 (엠씨더맥스)',\n",
       " '일 락',\n",
       " '김건모',\n",
       " '박효신',\n",
       " '알렉스',\n",
       " '이정',\n",
       " 'BIGBANG',\n",
       " '지아',\n",
       " '김종욱',\n",
       " '손담비',\n",
       " '별',\n",
       " '이승기',\n",
       " '이기찬',\n",
       " '이효리',\n",
       " '남규리',\n",
       " '박명수',\n",
       " '나몰라패밀리 (Namolla Family)',\n",
       " '김동률',\n",
       " '서태지',\n",
       " '신지',\n",
       " '브라운 아이즈',\n",
       " '란 (RAN)',\n",
       " 'SG 워너비',\n",
       " '정철 (최정철)',\n",
       " '미노 (프리스타일), 타우',\n",
       " '노을',\n",
       " '넬 (NELL)',\n",
       " '서태지',\n",
       " '이효리',\n",
       " '이효리',\n",
       " '이효리',\n",
       " '김범수',\n",
       " '쥬얼리',\n",
       " '제드',\n",
       " 'Jennifer Lopez',\n",
       " 'BMK',\n",
       " '란 (RAN)',\n",
       " '플라이 투 더 스카이',\n",
       " '쥬얼리',\n",
       " 'SS501',\n",
       " '다비치',\n",
       " '다이나믹 듀오',\n",
       " '손담비',\n",
       " 'BIGBANG',\n",
       " '제이워크',\n",
       " '이효리',\n",
       " 'FTISLAND (FT아일랜드)',\n",
       " '쿨 (COOL)',\n",
       " '한영',\n",
       " 'SUPER JUNIOR-Happy (슈퍼주니어-Happy)',\n",
       " '견우 (Kyunwoo)',\n",
       " '메이비 (Maybee)',\n",
       " '아주']"
      ]
     },
     "execution_count": 14,
     "metadata": {},
     "output_type": "execute_result"
    }
   ],
   "source": [
    "[ singer.get_text() for singer in soup.find_all('span', attrs={'class':'checkEllipsis'}) ]"
   ]
  },
  {
   "cell_type": "markdown",
   "id": "b6f8156e",
   "metadata": {},
   "source": [
    "순위 정보를 조건문을 걸어 가져와 봅니다!!"
   ]
  },
  {
   "cell_type": "markdown",
   "id": "337c11d0",
   "metadata": {},
   "source": [
    "<span class=\"rank top\">1</span>"
   ]
  },
  {
   "cell_type": "code",
   "execution_count": 15,
   "id": "60ad14ef",
   "metadata": {
    "scrolled": true
   },
   "outputs": [
    {
     "data": {
      "text/plain": [
       "[<span class=\"rank top\">1</span>,\n",
       " <span class=\"rank top\">2</span>,\n",
       " <span class=\"rank top\">3</span>]"
      ]
     },
     "execution_count": 15,
     "metadata": {},
     "output_type": "execute_result"
    }
   ],
   "source": [
    "soup.find_all('span', attrs={'class':'rank top'})\n"
   ]
  },
  {
   "cell_type": "markdown",
   "id": "7871dbcb",
   "metadata": {},
   "source": [
    "순위 정보의 경우, 1,2,3위와 4-100위의 순위가\n",
    "\n",
    "정확하게 표시되지 않습니다.\n",
    "\n",
    "따라서, 긁어온 순서에 따라 '새로' 순위 정보를 만들어 줍니다. ^^"
   ]
  },
  {
   "cell_type": "markdown",
   "id": "23280280",
   "metadata": {},
   "source": [
    "크롤링한 순서에 따라 'rank'에 새로 1~끝까지\n",
    "\n",
    "순위 점수를 매겨 주었습니다."
   ]
  },
  {
   "cell_type": "code",
   "execution_count": 16,
   "id": "752380f1",
   "metadata": {},
   "outputs": [],
   "source": [
    "song = [title.find('a').get_text() for title in soup.find_all('div', attrs={'class': 'ellipsis rank01'})]\n",
    "rank = []\n",
    "for i in range(len(song)):\n",
    "    rank.append(i+1)"
   ]
  },
  {
   "cell_type": "markdown",
   "id": "03c8b5ce",
   "metadata": {},
   "source": [
    "<span class=\"datelk\"> 08</span>"
   ]
  },
  {
   "cell_type": "code",
   "execution_count": 17,
   "id": "5b94cc7f",
   "metadata": {
    "scrolled": true
   },
   "outputs": [
    {
     "data": {
      "text/plain": [
       "[<span class=\"datelk\">2008</span>, <span class=\"datelk\"> 08</span>]"
      ]
     },
     "execution_count": 17,
     "metadata": {},
     "output_type": "execute_result"
    }
   ],
   "source": [
    "soup.find_all('span', attrs={'class':'datelk'})\n"
   ]
  },
  {
   "cell_type": "markdown",
   "id": "9e960cd7",
   "metadata": {},
   "source": [
    "제목의 '2008년 08월종합월간차트' 부분을 가져옵니다.\n",
    "\n",
    "파싱하여 분석!!"
   ]
  },
  {
   "cell_type": "code",
   "execution_count": 18,
   "id": "dd919074",
   "metadata": {
    "scrolled": true
   },
   "outputs": [
    {
     "data": {
      "text/plain": [
       "' 08'"
      ]
     },
     "execution_count": 18,
     "metadata": {},
     "output_type": "execute_result"
    }
   ],
   "source": [
    "soup.find_all('span', attrs={'class':'datelk'})[0].get_text() # 년\n",
    "soup.find_all('span', attrs={'class':'datelk'})[1].get_text() # 월"
   ]
  },
  {
   "cell_type": "markdown",
   "id": "eafaad4e",
   "metadata": {},
   "source": [
    "selenium을 통해 월간차트 클릭 -> 연대 선택 -> 연도 선택 -> 월 선택 -> 장르 선택을 하였습니다.\n",
    "\n",
    "2020년 8월과 2008년 8월의 차이는 연대와 연도이므로, 이 두 부분의 규칙성을 파악해 봅시다. \n"
   ]
  },
  {
   "cell_type": "markdown",
   "id": "862fd3e3",
   "metadata": {},
   "source": [
    "\n",
    "연대 xpath 규칙성\n",
    "2000년 //*[@id=\"d_chart_search\"]/div/div/div[1]/div[1]/ul/li[3]/span/label\n",
    "2010년 //*[@id=\"d_chart_search\"]/div/div/div[1]/div[1]/ul/li[2]/span/label\n",
    "\n",
    "2020년 //*[@id=\"d_chart_search\"]/div/div/div[1]/div[1]/ul/li[1]/span/label\n",
    "\n",
    "연도 xpath 규칙성\n",
    "2009년 //*[@id=\"d_chart_search\"]/div/div/div[2]/div[1]/ul/li[1]/span/label\n",
    "2008년 //*[@id=\"d_chart_search\"]/div/div/div[2]/div[1]/ul/li[2]/span/label\n",
    "2020년 //*[@id=\"d_chart_search\"]/div/div/div[2]/div[1]/ul/li[2]/span/label\n",
    "\n",
    "2008년과 2020년 모두 위에서 2번째라 xpath 같음!\n",
    "\n",
    "추가) 월 xpath 규칙성\n",
    "1월 //*[@id=\"d_chart_search\"]/div/div/div[3]/div[1]/ul/li[1]/span/label\n",
    "12월 //*[@id=\"d_chart_search\"]/div/div/div[3]/div[1]/ul/li[12]/span/label\n"
   ]
  },
  {
   "cell_type": "code",
   "execution_count": 19,
   "id": "14347b26",
   "metadata": {},
   "outputs": [],
   "source": [
    "period = 1\n",
    "month = 8\n",
    "result_df = pd.DataFrame() #크롤링한 결과를 result_df에 저장합니다!!\n",
    "\n",
    "while period < 4:\n",
    "    try:\n",
    "        # 크롬드라이버 열기\n",
    "        driver = webdriver.Firefox() # gecko드라이버 경로\n",
    "        driver.maximize_window() # 브라우저창 크기 최대\n",
    "\n",
    "        # 드라이버가 해당 url 접속\n",
    "        url = 'https://www.melon.com/chart/index.htm' # 멜론차트 페이지\n",
    "        driver.get(url)\n",
    "        time.sleep(2)\n",
    "\n",
    "        # 차트파인더 클릭\n",
    "        driver.find_element_by_xpath('//*[@id=\"gnb_menu\"]/ul[1]/li[1]/div/div/button/span').click()\n",
    "        time.sleep(2)\n",
    "\n",
    "        # 월간차트 클릭\n",
    "        driver.find_element_by_xpath('//*[@id=\"d_chart_search\"]/div/h4[2]/a').click()\n",
    "        time.sleep(2)\n",
    "\n",
    "        ## 여기에서 period 사용\n",
    "        driver.find_element_by_xpath('//*[@id=\"d_chart_search\"]/div/div/div[1]/div[1]/ul/li[{}]/span/label'.format(period)).click()\n",
    "        time.sleep(2)\n",
    "\n",
    "        # 연도선택(규칙 찾기!)\n",
    "        driver.find_element_by_xpath('//*[@id=\"d_chart_search\"]/div/div/div[2]/div[1]/ul/li[2]/span/label').click()\n",
    "        time.sleep(2)\n",
    "\n",
    "        # 월선택 8월 클릭\n",
    "        driver.find_element_by_xpath('//*[@id=\"d_chart_search\"]/div/div/div[3]/div[1]/ul/li[{}]/span/label'.format(month)).click()\n",
    "        time.sleep(2)\n",
    "\n",
    "        # 장르선택 종합 클릭\n",
    "        driver.find_element_by_xpath('//*[@id=\"d_chart_search\"]/div/div/div[5]/div[1]/ul/li[1]/span/label').click()\n",
    "        time.sleep(2)\n",
    "        \n",
    "        # 검색버튼 클릭\n",
    "        driver.find_element_by_xpath('//*[@id=\"d_srch_form\"]/div[2]/button/span/span').click()\n",
    "        time.sleep(2)\n",
    "        \n",
    "        # html 정보 가져오기\n",
    "        html = driver.page_source \n",
    "        soup = BeautifulSoup(html, 'lxml')\n",
    "        \n",
    "        # 노래 제목 가져오기\n",
    "        song_list = [title.find('a').get_text() for title in soup.find_all('div', attrs={'class': 'ellipsis rank01'})]\n",
    "        \n",
    "        # 가수명 가져오기\n",
    "        singer_list = [ singer.get_text() for singer in soup.find_all('span', attrs={'class':'checkEllipsis'}) ]\n",
    "        \n",
    "        # 순위 만들기\n",
    "        rank_list = []\n",
    "        for i in range(len(song)):\n",
    "            rank_list.append(i+1)\n",
    "        # 년\n",
    "        year_list = list(repeat(soup.find_all('span', attrs={'class':'datelk'})[0].get_text(), len(song_list)))\n",
    "        \n",
    "        # 월 \n",
    "        # month = list(repeat(soup.find_all('span', attrs={'class':'datelk'})[1].get_text(), len(song))) # 08로 표기되어 안깔끔\n",
    "        month_list = list(repeat(month, len(song_list)))\n",
    "        \n",
    "        # 데이터프레임 생성\n",
    "        df = pd.DataFrame({'연도':year_list,'월':month_list,'순위':rank_list,'곡명':song_list,'가수명':singer_list})\n",
    "        result_df = pd.concat([result_df, df], ignore_index=True)\n",
    "        period += 2\n",
    "    \n",
    "    except:\n",
    "        print(period)\n",
    "        break"
   ]
  },
  {
   "cell_type": "markdown",
   "id": "6e34c9f0",
   "metadata": {},
   "source": [
    "드라이버 창을 닫아 줍니다!!"
   ]
  },
  {
   "cell_type": "code",
   "execution_count": 21,
   "id": "16e24225",
   "metadata": {},
   "outputs": [],
   "source": [
    "# driver.close()"
   ]
  },
  {
   "cell_type": "markdown",
   "id": "e9eda221",
   "metadata": {},
   "source": [
    "분석결과를 .csv파일로 내보내기합니다.\n",
    "\n",
    "(파일이 깨질 경우, encoding = 부분을 'ANSI', 'EUC-KR\", 'KO-KR', 'UTF-8'등으로\n",
    "변환해주세요!!"
   ]
  },
  {
   "cell_type": "code",
   "execution_count": 23,
   "id": "a75d48f5",
   "metadata": {
    "scrolled": true
   },
   "outputs": [
    {
     "name": "stdout",
     "output_type": "stream",
     "text": [
      "file exported to :  music_data_08_08.csv\n"
     ]
    }
   ],
   "source": [
    "filename = 'music_data_08_08.csv'\n",
    "result_df.to_csv(filename, encoding='ANSI')\n",
    "print('file exported to : ',filename)"
   ]
  },
  {
   "cell_type": "markdown",
   "id": "b0723062",
   "metadata": {},
   "source": [
    "수고하셨습니다!! :D"
   ]
  },
  {
   "cell_type": "markdown",
   "id": "d270ceeb",
   "metadata": {},
   "source": [
    "------------------------------------------------------------------------------"
   ]
  },
  {
   "cell_type": "markdown",
   "id": "621d62c5",
   "metadata": {},
   "source": [
    "Reference: https://arehoow.tistory.com/10\n",
    "\n",
    "본 수업 및 수업자료는 학생들의 데이터 수집을 돕기 위한 자료이며, \n",
    "\n",
    "크롤링 대상의 지적재산권 및 이 소프트웨어의 실제 사용에 의해 발생하는 제반 문제에 대하여 강사는 일절 책임지지 않습니다."
   ]
  }
 ],
 "metadata": {
  "kernelspec": {
   "display_name": "Python 3",
   "language": "python",
   "name": "python3"
  },
  "language_info": {
   "codemirror_mode": {
    "name": "ipython",
    "version": 3
   },
   "file_extension": ".py",
   "mimetype": "text/x-python",
   "name": "python",
   "nbconvert_exporter": "python",
   "pygments_lexer": "ipython3",
   "version": "3.8.8"
  }
 },
 "nbformat": 4,
 "nbformat_minor": 5
}
